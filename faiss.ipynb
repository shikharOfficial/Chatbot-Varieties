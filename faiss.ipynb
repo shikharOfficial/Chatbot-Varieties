{
 "cells": [
  {
   "cell_type": "code",
   "execution_count": 1,
   "metadata": {},
   "outputs": [
    {
     "name": "stderr",
     "output_type": "stream",
     "text": [
      "/tmp/ipykernel_112163/4230746563.py:5: TqdmExperimentalWarning: Using `tqdm.autonotebook.tqdm` in notebook mode. Use `tqdm.tqdm` instead to force console mode (e.g. in jupyter console)\n",
      "  from tqdm.autonotebook import tqdm, trange\n"
     ]
    }
   ],
   "source": [
    "from langchain.text_splitter import RecursiveCharacterTextSplitter\n",
    "from langchain.document_loaders import PyPDFLoader, DirectoryLoader\n",
    "from langchain.embeddings import HuggingFaceEmbeddings\n",
    "from langchain.vectorstores import FAISS\n",
    "from tqdm.autonotebook import tqdm, trange"
   ]
  },
  {
   "cell_type": "code",
   "execution_count": 2,
   "metadata": {},
   "outputs": [],
   "source": [
    "DATA_PATH = 'Aurigo/'\n",
    "DB_FAISS_PATH = 'vectorstores/db_faiss'"
   ]
  },
  {
   "cell_type": "code",
   "execution_count": 3,
   "metadata": {},
   "outputs": [
    {
     "data": {
      "text/plain": [
       "[Document(metadata={'source': 'Aurigo/Aurigo.pdf', 'page': 0}, page_content='Canceling the Subscription'),\n",
       " Document(metadata={'source': 'Aurigo/Aurigo.pdf', 'page': 1}, page_content=' | Contents | ii\\nContents\\nCanceling the Subscription ......................................................................................6\\nCampaigning for Projects ........................................................................................6\\nContact Us .................................................................................................................6\\nIntroduction to Aurigo Engage ...............................................................................6\\nClosing a Campaign .................................................................................................7\\nEngage Home ............................................................................................................7\\nIntroduction to Aurigo Engage User Interface .....................................................8\\nCopying the Public Portal URL ............................................................................10\\nLogging Out of Aurigo Engage .............................................................................10\\nCreating a Campaign .............................................................................................10\\nManaging Your Plan ..............................................................................................11\\nDeleting a Campaign ..............................................................................................11\\nDownloading a QR Code .......................................................................................12\\nViewing the Subscription Details ..........................................................................12\\nIntroduction .........................................................................................................................................................12\\nManaging Projects in a Campaign .......................................................................12\\nViewing the Transaction History ..........................................................................13'),\n",
       " Document(metadata={'source': 'Aurigo/Aurigo.pdf', 'page': 2}, page_content=' | Contents | iii\\nChanging Password ................................................................................................13\\nPosting a Campaign on Social Media ...................................................................14\\nModifying User Preferences ..................................................................................14\\nPublishing a Campaign ..........................................................................................15\\nRetrieving Password ...............................................................................................15\\nWithdrawing a Campaign .....................................................................................16\\nPublic Portal Users .................................................................................................16\\nRating and Sharing Comments for a Project ......................................................16\\nCampaign Reports ..................................................................................................17\\nSearching a Project .................................................................................................18\\nAnalyzing a Campaign ...........................................................................................18\\nPreviewing a Campaign .........................................................................................18\\nViewing a Project ....................................................................................................18\\nAnalyzing a Campaign by Comments ..................................................................18\\nResponding to Comments ......................................................................................19\\nApplication Settings ................................................................................................19\\nViewing and Downloading Reference Documents ...............................................20\\nAnalyzing a Campaign by Projects ......................................................................20'),\n",
       " Document(metadata={'source': 'Aurigo/Aurigo.pdf', 'page': 3}, page_content=' | Contents | iv\\nGenerating a Report ...............................................................................................20\\nViewing Analytics for Campaigns and Projects ..................................................21\\nAdding Form Fields ................................................................................................21\\nCategories .................................................................................................................21\\nViewing Promotional Details .................................................................................22\\nGenerating Reports .................................................................................................22\\nViewing Campaigns ................................................................................................22\\nAdding Users ...........................................................................................................22\\nAdding Layouts and Fonts ....................................................................................23\\nGeneral Settings ......................................................................................................23\\nPrinting a Report ....................................................................................................23\\nViewing Campaigns in Accepting Comments Status ..........................................24\\nDeleting a User ........................................................................................................24\\nManaging a Template .............................................................................................24\\nUser Roles ................................................................................................................24\\nProject Fields ...........................................................................................................25\\nSaving a Report ......................................................................................................25\\nViewing Campaigns in Completed Status ............................................................25'),\n",
       " Document(metadata={'source': 'Aurigo/Aurigo.pdf', 'page': 4}, page_content=' | Contents | v\\nUpdating User Details ............................................................................................25\\nPublic Portal Settings .............................................................................................26\\nTerms of Use Settings ............................................................................................26\\nViewing Campaigns in Draft Status .....................................................................26\\nUser Management ...................................................................................................26'),\n",
       " Document(metadata={'source': 'Aurigo/Aurigo.pdf', 'page': 5}, page_content=\" | Canceling the Subscription  | 6\\nCanceling the Subscription\\nYou can cancel your subscription at any time.\\n1.In the Home page, click the initials of your user name at the top right corner of the page.\\n2.From the drop-down list, click Subscription Details  . The Subscription Details  page is displayed.\\n3.Click Cancel Subscription .\\n4.Click OK in the dialog box. Your subscription is canceled but will be valid until your current plan expires. \\nFigure 1. Cancel Subscription Dialog Box\\nCampaigning for Projects\\nAurigo Engage enables you to;\\n•Create campaigns with the appropriate project information\\n•Collect and respond to public feedback\\n•Draw the valuable insights to keep the general public aware of proposed projects\\n•Receive general public's valuable feedback on the projects\\nCampaigning new projects involves the following stages:\\n1.Creating a campaign\\n2.Managing projects in a campaign\\n3.Publishing a campaign\\n4.Posting a campaign on social media\\n5.Withdrawing a campaign\\n6.Copying the public portal URL\\n7.Downloading a QR Code\\n8.Deleting a campaign\\n9.Closing a campaign\\nContact Us\\nYou can contact us for any queries related to support and sales.\\n1.In the Home page, click the initials of your user name at the top right corner of the page.\\n2.From the drop-down list, click Contact Us  . The Contact us for any queries!  window is displayed.  Figure 1.\\nContract us for any queries!\\nIntroduction to Aurigo Engage\\nAurigo Engage is a software as a service (SaaS) based product that enables infrastructure and construction agencies\\nto efficiently collaborate with general public potentially using a proposed infrastructure. Aurigo Engage is a reliable\\nfull-featured web-based solution to determine general public sentiments on proposed projects. It is designed to collate\\nand analyze general public feedback on potential projects early in the capital planning process. Aurigo Engage uses\\nrobust artificial intelligence (AI) tools to perform powerful analysis on the collated feedback and provides critical\\ninsights into user sentiment so agencies can decide on the best approach to the proposed project.\"),\n",
       " Document(metadata={'source': 'Aurigo/Aurigo.pdf', 'page': 6}, page_content=' | Closing a Campaign  | 7\\nAurigo Engage enables agencies to easily create and effectively promote campaigns for proposed capital projects,\\nsolicit feedback from potential users of the infrastructure, analyze feedback, acknowledge, and respond to feedback.\\nAurigo Engage enables general public to view details of proposed projects in campaigns and voice their opinions on\\nthe projects.\\nOnce a campaign with information on the proposed project is created, infrastructure and construction agencies can\\nbroadcast and promote these campaigns using social media such as Facebook, Twitter, LinkedIn, and other media to\\nsolicit feedback. Aurigo Engage then performs powerful sentimental analysis on the feedback received and presents\\nanalyzed information efficiently. Based on these effective illustrations of general public sentiment that Aurigo Engage\\nprovides, agencies can now make informed decisions on proposed projects.\\nAurigo Engage involves the following phases:\\n1.Configure application settings  to customize the application.\\n2.Manage application users .\\n3.Personalize the public portal template and theme .\\n4.Create a campaign  with information on the proposed project.\\n5.Create a public portal  for the general public to participate in a campaign and share their feedback.\\n6.Promote campaigns using social platforms to increase the demographics and user base for augmented user\\ninvolvement.\\n7.Accept, analyze, and respond  to the comments from general public for a campaign.\\n8.Generate reports  based on the sentiments of the comments received from the general public.\\nClosing a Campaign\\nThe campaign is in COMPLETED  status.\\nYou can close a campaign in the All Campaigns  page.\\n1.In the Home page, click Home , and then click All Campaigns  . The All Campaigns  page is displayed.\\n2.In the Your campaigns  section, select the appropriate campaign in COMPLETED  status, and click  .\\n3.From the drop-down list, select Close Campaign  . A confirmation dialog box is displayed.\\n4.Click Yes . The campaign is closed successfully, and the status is changed to CLOSED  status.\\nEngage Home\\nThe Home page displays the list of all available campaigns with their statuses and enables the agency users to view a\\nsummary of the campaign details. The project campaigns have the following statuses:\\n•Draft\\n•Published\\n•Accepting comments\\n•Withdrawn\\n•Completed\\n•Closed\\nStatus Description\\nDRAFT•During campaign creation, the status of the\\ncampaign is in the DRAFT status.\\n•When a campaign in PUBLISHED  status is\\nwithdrawn, the status of the campaign is changed\\nto the DRAFT status.'),\n",
       " Document(metadata={'source': 'Aurigo/Aurigo.pdf', 'page': 7}, page_content=' | Introduction to Aurigo Engage User Interface  | 8\\nStatus Description\\nPUBLISHED After the user creates and publishes the campaign for\\ngeneral public participation, the campaign is changed to\\nPUBLISHED  status.\\nACCEPTING COMMENTS A campaign will start receiving comments from the\\ngeneral public during a specified commenting period.\\nThe published campaigns during this commenting period\\nwill have the ACCEPTING COMMENTS  status. Once\\nthe commenting period ends, the status of the campaign\\nchanges to COMPLETED  status.\\nWITHDRAWN When you withdraw an ongoing campaign that is in\\nACCEPTING COMMENTS  status, then the status of\\nthe campaign is changed to the WITHDRAWN  status.\\nCOMPLETED After the commenting period is complete, the campaign\\nis changed to COMPLETED  status.\\nCLOSED After all the analysis for the completed campaign is\\ndone, the status of the campaign can be changed to\\nCLOSED  status.\\nThe Search campaigns  field enables you to search for appropriate campaigns and view the details of projects\\nassociated with them.\\nThe Sort by drop-down list enables you to sort the list of campaigns displayed. The options to sort are as follows:\\n•Recently Added – The campaigns are sorted based on the date of creation.\\n•Rating: High to Low – The campaigns are sorted from high to low based on the rating.\\n•Rating: Low to High – The campaigns are sorted from low to high based on the rating.\\n•Most Comments – The campaigns are sorted based on the number of comments.\\nThe Filter option enables you to filter the campaigns based on the following:\\n•Campaign Status – You can filter based on the current status of the campaign.\\n•Rating – You can filter based on the campaign rating. The ratings are given by the general public as\\nfeedback.\\n•Endorsement % - You can filter based on the endorsement percentage of the campaign.\\n•Comment Period – You can filter based on the commenting period by choosing the start and end date of the\\ncommenting period.\\nIntroduction to Aurigo Engage User Interface\\nEvery time you log in, you begin on the Aurigo Engage Home page. The Aurigo Engage application is configured\\nbased on the roles assigned to you and the campaigns managed by you.\\nThe Aurigo Engage Home page comprises of various menu options as illustrated in the following sample display.\\nFigure 1. Home Page\\nThe user interface of Aurigo Engage contains various elements that are described as follows:'),\n",
       " Document(metadata={'source': 'Aurigo/Aurigo.pdf', 'page': 8}, page_content=' | Introduction to Aurigo Engage User Interface  | 9\\nNumber Item Description\\n1 Profile Menu You can view your profile and log\\nout.\\nClick your initials to view the\\noptions.\\n2 Notifications icon You can view all notifications along\\nwith date and time.\\nClick the Notifications  icon to view\\nall the notifications.\\nClick View all to view all the\\nnotifications in the Notifications\\npage.\\n3 Information Icon You can view a quick walkthrough of\\nthe Aurigo Engage.\\nClick the Information  icon to watch\\na quick walkthrough video of the\\nMenu options.\\n4 Page Name You can view the name of the page\\nyou are currently in.\\n5 Search field You can use this field to search for a\\nparticular campaign.\\n6 Module Menu You can access the various modules\\nby using the module menu options.\\n7 Filter Option You can filter the campaigns by\\nusing this option.\\nClick Filter to view the filter\\noptions.\\n8 Sort by drop-down list You can sort the campaigns by using\\nthis drop-down list.\\nClick and select the appropriate\\noption from the drop-down list.\\n9 Information Icon You can view a quick walkthrough of\\nthe Aurigo Engage.\\nClick the Information  Icon to\\nwatch a quick walkthrough video of\\ncreating a new campaign.'),\n",
       " Document(metadata={'source': 'Aurigo/Aurigo.pdf', 'page': 9}, page_content=' | Copying the Public Portal URL  | 10\\nNumber Item Description\\n10 Create New Campaign You can create a new campaign by\\nusing this option. For information\\nabout creating a campaign, refer to\\nCreating a Campaign .\\n11 Campaign Tile You can view the campaign name,\\nstatus of the campaign, number of\\ncomments, commenting period,\\nendorsement percentage, and number\\nof projects.\\nClick View to view the campaign.\\nCopying the Public Portal URL\\nYou can copy the public portal URL in the All Campaigns  page.\\n1.In the Home page, click Home , and then click All Campaigns  . The All Campaigns  page is displayed.\\n2.In the Your campaigns  section, select the appropriate campaign, and click  . Note: The Public Portal URL\\nis not available for the campaigns in DRAFT status.\\n3.From the drop-down list, select Copy Public Portal URL .\\n4.Paste the URL in the web browser to view the public portal.\\nLogging Out of Aurigo Engage\\nYou can log out of Aurigo Engage  by using Sign Out  option.\\n1.In the Home page, click the initials of the username at the top right corner of the page.\\n2.Click Sign Out  . This ends the user-session and logs the user out from the application.  Figure 1. Sign Out\\nCreating a Campaign\\nThis feature enables you to create a campaign with project related information.Note: Ensure all the project fields are\\ncreated in the Application Settings  .\\n1.In the Home page, click the Create New Campaign  tab. The Create a New Campaign  page is displayed.\\n2.Provide the appropriate information in the fields, as described in the following table.\\nField Description\\nCAMPAIGN TITLE Enter the name of the campaign.\\nSTART DATE Select the start date of the campaign. The campaign\\nstarts on this date and is open to the general public\\nto provide feedback.')]"
      ]
     },
     "execution_count": 3,
     "metadata": {},
     "output_type": "execute_result"
    }
   ],
   "source": [
    "loader = DirectoryLoader(DATA_PATH, glob='*.pdf', loader_cls=PyPDFLoader)\n",
    "documents = loader.load()\n",
    "documents[:10]"
   ]
  },
  {
   "cell_type": "code",
   "execution_count": 5,
   "metadata": {},
   "outputs": [
    {
     "data": {
      "text/plain": [
       "[Document(metadata={'source': 'Aurigo/Aurigo.pdf', 'page': 0}, page_content='Canceling the Subscription'),\n",
       " Document(metadata={'source': 'Aurigo/Aurigo.pdf', 'page': 1}, page_content='| Contents | ii\\nContents\\nCanceling the Subscription ......................................................................................6\\nCampaigning for Projects ........................................................................................6\\nContact Us .................................................................................................................6\\nIntroduction to Aurigo Engage ...............................................................................6\\nClosing a Campaign .................................................................................................7\\nEngage Home ............................................................................................................7\\nIntroduction to Aurigo Engage User Interface .....................................................8\\nCopying the Public Portal URL ............................................................................10'),\n",
       " Document(metadata={'source': 'Aurigo/Aurigo.pdf', 'page': 1}, page_content='Logging Out of Aurigo Engage .............................................................................10\\nCreating a Campaign .............................................................................................10\\nManaging Your Plan ..............................................................................................11\\nDeleting a Campaign ..............................................................................................11\\nDownloading a QR Code .......................................................................................12\\nViewing the Subscription Details ..........................................................................12\\nIntroduction .........................................................................................................................................................12\\nManaging Projects in a Campaign .......................................................................12'),\n",
       " Document(metadata={'source': 'Aurigo/Aurigo.pdf', 'page': 1}, page_content='Viewing the Transaction History ..........................................................................13'),\n",
       " Document(metadata={'source': 'Aurigo/Aurigo.pdf', 'page': 2}, page_content='| Contents | iii\\nChanging Password ................................................................................................13\\nPosting a Campaign on Social Media ...................................................................14\\nModifying User Preferences ..................................................................................14\\nPublishing a Campaign ..........................................................................................15\\nRetrieving Password ...............................................................................................15\\nWithdrawing a Campaign .....................................................................................16\\nPublic Portal Users .................................................................................................16\\nRating and Sharing Comments for a Project ......................................................16'),\n",
       " Document(metadata={'source': 'Aurigo/Aurigo.pdf', 'page': 2}, page_content='Rating and Sharing Comments for a Project ......................................................16\\nCampaign Reports ..................................................................................................17\\nSearching a Project .................................................................................................18\\nAnalyzing a Campaign ...........................................................................................18\\nPreviewing a Campaign .........................................................................................18\\nViewing a Project ....................................................................................................18\\nAnalyzing a Campaign by Comments ..................................................................18\\nResponding to Comments ......................................................................................19'),\n",
       " Document(metadata={'source': 'Aurigo/Aurigo.pdf', 'page': 2}, page_content='Application Settings ................................................................................................19\\nViewing and Downloading Reference Documents ...............................................20\\nAnalyzing a Campaign by Projects ......................................................................20'),\n",
       " Document(metadata={'source': 'Aurigo/Aurigo.pdf', 'page': 3}, page_content='| Contents | iv\\nGenerating a Report ...............................................................................................20\\nViewing Analytics for Campaigns and Projects ..................................................21\\nAdding Form Fields ................................................................................................21\\nCategories .................................................................................................................21\\nViewing Promotional Details .................................................................................22\\nGenerating Reports .................................................................................................22\\nViewing Campaigns ................................................................................................22\\nAdding Users ...........................................................................................................22'),\n",
       " Document(metadata={'source': 'Aurigo/Aurigo.pdf', 'page': 3}, page_content='Adding Layouts and Fonts ....................................................................................23\\nGeneral Settings ......................................................................................................23\\nPrinting a Report ....................................................................................................23\\nViewing Campaigns in Accepting Comments Status ..........................................24\\nDeleting a User ........................................................................................................24\\nManaging a Template .............................................................................................24\\nUser Roles ................................................................................................................24\\nProject Fields ...........................................................................................................25'),\n",
       " Document(metadata={'source': 'Aurigo/Aurigo.pdf', 'page': 3}, page_content='Saving a Report ......................................................................................................25\\nViewing Campaigns in Completed Status ............................................................25')]"
      ]
     },
     "execution_count": 5,
     "metadata": {},
     "output_type": "execute_result"
    }
   ],
   "source": [
    "text_splitter = RecursiveCharacterTextSplitter(chunk_size = 1000, chunk_overlap = 100)\n",
    "texts = text_splitter.split_documents(documents)\n",
    "texts[:10]"
   ]
  },
  {
   "cell_type": "code",
   "execution_count": 6,
   "metadata": {},
   "outputs": [
    {
     "name": "stderr",
     "output_type": "stream",
     "text": [
      "/home/metapercept/ChatbotTest/chatbot-env/lib/python3.10/site-packages/langchain_core/_api/deprecation.py:139: LangChainDeprecationWarning: The class `HuggingFaceEmbeddings` was deprecated in LangChain 0.2.2 and will be removed in 0.3.0. An updated version of the class exists in the langchain-huggingface package and should be used instead. To use it run `pip install -U langchain-huggingface` and import as `from langchain_huggingface import HuggingFaceEmbeddings`.\n",
      "  warn_deprecated(\n"
     ]
    },
    {
     "data": {
      "text/plain": [
       "HuggingFaceEmbeddings(client=SentenceTransformer(\n",
       "  (0): Transformer({'max_seq_length': 256, 'do_lower_case': False}) with Transformer model: BertModel \n",
       "  (1): Pooling({'word_embedding_dimension': 384, 'pooling_mode_cls_token': False, 'pooling_mode_mean_tokens': True, 'pooling_mode_max_tokens': False, 'pooling_mode_mean_sqrt_len_tokens': False, 'pooling_mode_weightedmean_tokens': False, 'pooling_mode_lasttoken': False, 'include_prompt': True})\n",
       "  (2): Normalize()\n",
       "), model_name='sentence-transformers/all-MiniLM-L6-v2', cache_folder=None, model_kwargs={'device': 'cpu'}, encode_kwargs={}, multi_process=False, show_progress=False)"
      ]
     },
     "execution_count": 6,
     "metadata": {},
     "output_type": "execute_result"
    }
   ],
   "source": [
    "embeddings = HuggingFaceEmbeddings(model_name='sentence-transformers/all-MiniLM-L6-v2', model_kwargs = { \"device\": \"cpu\" })\n",
    "embeddings"
   ]
  },
  {
   "cell_type": "code",
   "execution_count": 8,
   "metadata": {},
   "outputs": [],
   "source": [
    "db = FAISS.from_documents(texts, embeddings)\n",
    "db.save_local(DB_FAISS_PATH)"
   ]
  },
  {
   "cell_type": "code",
   "execution_count": 7,
   "metadata": {},
   "outputs": [
    {
     "data": {
      "text/plain": [
       "<langchain_community.vectorstores.faiss.FAISS at 0x7e27a986bdf0>"
      ]
     },
     "execution_count": 7,
     "metadata": {},
     "output_type": "execute_result"
    }
   ],
   "source": [
    "db = FAISS.load_local(DB_FAISS_PATH, embeddings, allow_dangerous_deserialization=True)\n",
    "db"
   ]
  },
  {
   "cell_type": "code",
   "execution_count": 8,
   "metadata": {},
   "outputs": [
    {
     "data": {
      "application/vnd.jupyter.widget-view+json": {
       "model_id": "f3da5f42b02c4a02969f7e6ebfaf2e0f",
       "version_major": 2,
       "version_minor": 0
      },
      "text/plain": [
       "Fetching 1 files:   0%|          | 0/1 [00:00<?, ?it/s]"
      ]
     },
     "metadata": {},
     "output_type": "display_data"
    },
    {
     "data": {
      "application/vnd.jupyter.widget-view+json": {
       "model_id": "a38179fbc3b04889ab72d243861577af",
       "version_major": 2,
       "version_minor": 0
      },
      "text/plain": [
       "Fetching 1 files:   0%|          | 0/1 [00:00<?, ?it/s]"
      ]
     },
     "metadata": {},
     "output_type": "display_data"
    },
    {
     "data": {
      "text/plain": [
       "CTransformers(client=<ctransformers.llm.LLM object at 0x7e27a9854100>, model='TheBloke/Llama-2-7B-Chat-GGML', model_type='llama', config={'temperature': 0.01, 'stream': True})"
      ]
     },
     "execution_count": 8,
     "metadata": {},
     "output_type": "execute_result"
    }
   ],
   "source": [
    "from langchain_community.llms.ctransformers import CTransformers\n",
    "\n",
    "llm = CTransformers(\n",
    "        model = \"TheBloke/Llama-2-7B-Chat-GGML\",\n",
    "        model_type=\"llama\",\n",
    "        config={\n",
    "            # 'max_new_tokens': 600,\n",
    "            'temperature': 0.01,\n",
    "            # 'context_length': 700,\n",
    "            'stream': True\n",
    "        }\n",
    "    )\n",
    "\n",
    "llm"
   ]
  },
  {
   "cell_type": "code",
   "execution_count": 21,
   "metadata": {},
   "outputs": [
    {
     "data": {
      "text/plain": [
       "PromptTemplate(input_variables=['context', 'question'], template=\"\\n###Instructions:###\\nYou are an AI Integrated Chatbot. Your task is to give a relevant answer to the question asked by the User based on the context provided. The context will be pieces of information from a particular document. If you don't know the answer, just say that you don't know; don't try to make up an answer. Answer the question given in a natural, human-like manner.\\n\\n###Context: {context}###\\n###Question: {question}###\\n\\n******************\\nNote: Only return the helpful & correct answer below and nothing else. Verify the information before responding. Don't give improper or incorrect information or information not provided in the context.\\n******************\\n\\nHelpful answer:\\n\")"
      ]
     },
     "execution_count": 21,
     "metadata": {},
     "output_type": "execute_result"
    }
   ],
   "source": [
    "from langchain.prompts import PromptTemplate\n",
    "\n",
    "custom_prompt_template = \"\"\"\n",
    "###Instructions:###\n",
    "You are an AI Integrated Chatbot. Your task is to give a relevant answer to the question asked by the User based on the context provided. The context will be pieces of information from a particular document. If you don't know the answer, just say that you don't know; don't try to make up an answer. Answer the question given in a natural, human-like manner.\n",
    "\n",
    "###Context: {context}###\n",
    "###Question: {question}###\n",
    "\n",
    "******************\n",
    "Note: Only return the helpful & correct answer below and nothing else. Verify the information before responding. Don't give improper or incorrect information or information that are not provided in the context.\n",
    "******************\n",
    "\n",
    "Helpful answer:\n",
    "\"\"\"\n",
    "\n",
    "qa_prompt = PromptTemplate(template=custom_prompt_template,\n",
    "                            input_variables=['context', 'question'])\n",
    "\n",
    "qa_prompt"
   ]
  },
  {
   "cell_type": "code",
   "execution_count": 22,
   "metadata": {},
   "outputs": [
    {
     "data": {
      "text/plain": [
       "RetrievalQA(combine_documents_chain=StuffDocumentsChain(llm_chain=LLMChain(prompt=PromptTemplate(input_variables=['context', 'question'], template=\"\\n###Instructions:###\\nYou are an AI Integrated Chatbot. Your task is to give a relevant answer to the question asked by the User based on the context provided. The context will be pieces of information from a particular document. If you don't know the answer, just say that you don't know; don't try to make up an answer. Answer the question given in a natural, human-like manner.\\n\\n###Context: {context}###\\n###Question: {question}###\\n\\n******************\\nNote: Only return the helpful & correct answer below and nothing else. Verify the information before responding. Don't give improper or incorrect information or information not provided in the context.\\n******************\\n\\nHelpful answer:\\n\"), llm=CTransformers(client=<ctransformers.llm.LLM object at 0x7e27a9854100>, model='TheBloke/Llama-2-7B-Chat-GGML', model_type='llama', config={'temperature': 0.01, 'stream': True})), document_variable_name='context'), return_source_documents=True, retriever=VectorStoreRetriever(tags=['FAISS', 'HuggingFaceEmbeddings'], vectorstore=<langchain_community.vectorstores.faiss.FAISS object at 0x7e27a986bdf0>, search_type='mmr', search_kwargs={'k': 1}))"
      ]
     },
     "execution_count": 22,
     "metadata": {},
     "output_type": "execute_result"
    }
   ],
   "source": [
    "from langchain.chains.retrieval_qa.base import RetrievalQA\n",
    "\n",
    "qa_chain = RetrievalQA.from_chain_type(llm=llm,\n",
    "                                    chain_type='stuff',\n",
    "                                    retriever=db.as_retriever(search_kwargs={'k': 1}, search_type='mmr'),\n",
    "                                    return_source_documents=True,\n",
    "                                    chain_type_kwargs={'prompt': qa_prompt}\n",
    "                                    )\n",
    "\n",
    "qa_chain"
   ]
  },
  {
   "cell_type": "code",
   "execution_count": 24,
   "metadata": {},
   "outputs": [
    {
     "name": "stdout",
     "output_type": "stream",
     "text": [
      "<generator object Runnable.stream at 0x7e279c556a40>\n",
      "{'query': 'What is its important?', 'result': 'The important thing to note about the Contents section is that it provides a summary of the key points covered in the document, including the importance of campaigns and projects, how to close a campaign, and how to engage with users.', 'source_documents': [Document(metadata={'source': 'Aurigo/Aurigo.pdf', 'page': 1}, page_content='| Contents | ii\\nContents\\nCanceling the Subscription ......................................................................................6\\nCampaigning for Projects ........................................................................................6\\nContact Us .................................................................................................................6\\nIntroduction to Aurigo Engage ...............................................................................6\\nClosing a Campaign .................................................................................................7\\nEngage Home ............................................................................................................7\\nIntroduction to Aurigo Engage User Interface .....................................................8\\nCopying the Public Portal URL ............................................................................10')]}\n"
     ]
    }
   ],
   "source": [
    "response_stream = qa_chain.stream({'query': \"What is its important?\"})\n",
    "print(response_stream)\n",
    "for response in response_stream:\n",
    "    print(response)"
   ]
  }
 ],
 "metadata": {
  "kernelspec": {
   "display_name": "chatbot-env",
   "language": "python",
   "name": "python3"
  },
  "language_info": {
   "codemirror_mode": {
    "name": "ipython",
    "version": 3
   },
   "file_extension": ".py",
   "mimetype": "text/x-python",
   "name": "python",
   "nbconvert_exporter": "python",
   "pygments_lexer": "ipython3",
   "version": "3.10.12"
  }
 },
 "nbformat": 4,
 "nbformat_minor": 2
}
