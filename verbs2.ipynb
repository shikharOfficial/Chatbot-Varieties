{
 "cells": [
  {
   "cell_type": "code",
   "execution_count": 2,
   "metadata": {},
   "outputs": [],
   "source": [
    "import spacy\n",
    "from transformers import pipeline, GPT2Tokenizer, GPT2LMHeadModel\n",
    "\n",
    "# Load spaCy model\n",
    "nlp = spacy.load(\"en_core_web_sm\")"
   ]
  },
  {
   "cell_type": "code",
   "execution_count": 3,
   "metadata": {},
   "outputs": [
    {
     "data": {
      "text/plain": [
       "<transformers.pipelines.text_generation.TextGenerationPipeline at 0x7790e370ce50>"
      ]
     },
     "execution_count": 3,
     "metadata": {},
     "output_type": "execute_result"
    }
   ],
   "source": [
    "tokenizer = GPT2Tokenizer.from_pretrained(\"gpt2\")\n",
    "model = GPT2LMHeadModel.from_pretrained(\"gpt2\")\n",
    "\n",
    "text_generation_pipeline = pipeline(\n",
    "    \"text-generation\", \n",
    "    model=model, \n",
    "    tokenizer=tokenizer, \n",
    "    truncation=True, \n",
    "    pad_token_id=tokenizer.eos_token_id\n",
    ")\n",
    "text_generation_pipeline"
   ]
  },
  {
   "cell_type": "code",
   "execution_count": 6,
   "metadata": {},
   "outputs": [],
   "source": [
    "# Helper functions\n",
    "def identify_main_verb(query):\n",
    "    doc = nlp(query)\n",
    "    for token in doc:\n",
    "        if token.pos_ == \"VERB\":\n",
    "            return token.text\n",
    "    return None\n",
    "\n",
    "def identify_subject(query):\n",
    "    doc = nlp(query)\n",
    "    for token in doc:\n",
    "        if token.dep_ == \"nsubj\":\n",
    "            return token.text\n",
    "    return None\n",
    "\n",
    "def match_subject_verb(subject, verb):\n",
    "    # Simplified subject-verb agreement logic\n",
    "    if subject and verb:\n",
    "        if subject.endswith('s'):\n",
    "            if not verb.endswith('s'):\n",
    "                return verb + 's'\n",
    "        else:\n",
    "            if verb.endswith('s'):\n",
    "                return verb[:-1]\n",
    "    return verb\n",
    "\n",
    "def extract_keywords(query):\n",
    "    doc = nlp(query)\n",
    "    keywords = [chunk.text for chunk in doc.noun_chunks]\n",
    "    return keywords\n",
    "\n",
    "def match_with_database(keywords):\n",
    "    # Placeholder function to simulate keyword matching\n",
    "    # In a real application, this would involve database queries\n",
    "    return keywords\n",
    "\n",
    "def generate_context(correct_verb_form, keywords):\n",
    "    return f\"Perform the action '{correct_verb_form}' on {', '.join(keywords)}.\"\n",
    "\n",
    "def LLM_model_generate_response(context):\n",
    "    # Generate response using Hugging Face text generation pipeline\n",
    "    generated = text_generation_pipeline(context, max_length=50, truncation=True)\n",
    "    return generated[0][\"generated_text\"]\n",
    "\n",
    "def interpret_verb(query):\n",
    "    # Use natural language processing (NLP) to identify the main verb\n",
    "    verb = identify_main_verb(query)\n",
    "    return verb\n",
    "\n",
    "def subject_verb_agreement(subject, verb):\n",
    "    # Ensure correct subject-verb agreement\n",
    "    correct_verb_form = match_subject_verb(subject, verb)\n",
    "    return correct_verb_form\n",
    "\n",
    "def discover_keywords(query):\n",
    "    # Extract key terms from the query\n",
    "    keywords = extract_keywords(query)\n",
    "    # Match keywords with database terminologies\n",
    "    matched_keywords = match_with_database(keywords)\n",
    "    return matched_keywords\n",
    "\n",
    "def formulate_response(query):\n",
    "    verb = interpret_verb(query)\n",
    "    subject = identify_subject(query)\n",
    "    correct_verb_form = subject_verb_agreement(subject, verb)\n",
    "    keywords = discover_keywords(query)\n",
    "    context = generate_context(correct_verb_form, keywords)\n",
    "   \n",
    "    response = LLM_model_generate_response(context)\n",
    "    return response"
   ]
  },
  {
   "cell_type": "code",
   "execution_count": 7,
   "metadata": {},
   "outputs": [
    {
     "name": "stdout",
     "output_type": "stream",
     "text": [
      "Perform the action 'create' on I, a new document. If your document can't be created, it will automatically create new one.\n",
      "\n",
      "Create a new document, and then the file will look like this.\n",
      "\n",
      "Create a new\n"
     ]
    }
   ],
   "source": [
    "user_query = \"How do I create a new document?\"\n",
    "response = formulate_response(user_query)\n",
    "print(response)"
   ]
  }
 ],
 "metadata": {
  "kernelspec": {
   "display_name": "chatbot-env",
   "language": "python",
   "name": "python3"
  },
  "language_info": {
   "codemirror_mode": {
    "name": "ipython",
    "version": 3
   },
   "file_extension": ".py",
   "mimetype": "text/x-python",
   "name": "python",
   "nbconvert_exporter": "python",
   "pygments_lexer": "ipython3",
   "version": "3.10.12"
  }
 },
 "nbformat": 4,
 "nbformat_minor": 2
}
