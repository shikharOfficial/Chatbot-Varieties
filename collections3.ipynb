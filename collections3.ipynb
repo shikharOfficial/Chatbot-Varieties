{
 "cells": [
  {
   "cell_type": "code",
   "execution_count": 1,
   "metadata": {},
   "outputs": [],
   "source": [
    "from langchain_community.document_loaders import BSHTMLLoader, DirectoryLoader\n",
    "\n",
    "class HTMLDirectoryLoader:\n",
    "    def __init__(self, directory):\n",
    "        self.directory = directory\n",
    "\n",
    "    def load(self):\n",
    "        loader = DirectoryLoader(path=self.directory, glob=\"**/*.html\", loader_cls=BSHTMLLoader)\n",
    "        documents = loader.load()\n",
    "        return documents"
   ]
  },
  {
   "cell_type": "code",
   "execution_count": 2,
   "metadata": {},
   "outputs": [
    {
     "data": {
      "text/plain": [
       "17"
      ]
     },
     "execution_count": 2,
     "metadata": {},
     "output_type": "execute_result"
    }
   ],
   "source": [
    "import os\n",
    "\n",
    "input_dir = os.path.join(os.getcwd(), 'data')\n",
    "loader = HTMLDirectoryLoader(input_dir)\n",
    "documents = loader.load()\n",
    "\n",
    "len(documents)"
   ]
  },
  {
   "cell_type": "code",
   "execution_count": 3,
   "metadata": {},
   "outputs": [
    {
     "data": {
      "text/plain": [
       "{'lc': 1,\n",
       " 'type': 'constructor',\n",
       " 'id': ['langchain', 'schema', 'document', 'Document'],\n",
       " 'kwargs': {'metadata': {'source': '/home/metapercept/ChatbotTest/data/use_lazy_loading.html',\n",
       "   'title': 'Use Lazy Loading'},\n",
       "  'page_content': \"Use Lazy LoadingIntroductionUse Angular CLIMaintain proper folder structureFollow consistent Angular coding stylesUse ES6 featuresUse trackBy along with ngForBreak down into small reusable componentsUse Lazy LoadingUse Index.tsAvoid logic in templates Cache API callsUse async pipe in templatesDeclare safe stringsAvoid any type when declaring constants and variablesState managementUse CDK Virtual ScrollUse Lazy LoadingTry to lazy load the modules in an Angular application whenever possible. Lazy loading loads something only when it is used. This reduces the size of the application load initial time and improves the application boot time by not loading unused modules.Without lazy loading// app.routing.tsimport { WithoutLazyLoadedComponent } from './without-lazy-loaded.component';{path: 'without-lazy-loaded',component: WithoutLazyLoadedComponent}With lazy loading//app.routing.ts{path: 'lazy-load',loadChildren: 'lazy-load.module#LazyLoadModule'}// lazy-load.module.tsimport { LazyLoadComponent } from './lazy-load.component';@NgModule({imports: [RouterModule.forChild([{path: '',component: LazyLoadComponent}])],declarations: [LazyLoadComponent]})export class LazyModule {}\",\n",
       "  'type': 'Document'}}"
      ]
     },
     "execution_count": 3,
     "metadata": {},
     "output_type": "execute_result"
    }
   ],
   "source": [
    "from langchain_text_splitters import RecursiveCharacterTextSplitter\n",
    "\n",
    "text_splitter = RecursiveCharacterTextSplitter(\n",
    "    chunk_size=20000,\n",
    "    chunk_overlap=200,\n",
    "    length_function=len,\n",
    ")\n",
    "\n",
    "chunks = text_splitter.split_documents(documents)\n",
    "\n",
    "chunks[1].to_json()"
   ]
  },
  {
   "cell_type": "code",
   "execution_count": 4,
   "metadata": {},
   "outputs": [
    {
     "name": "stdout",
     "output_type": "stream",
     "text": [
      "Collection(id=276e8206-0572-4352-92b9-db0645bb1aa5, name=docs)\n",
      "Collection(id=276e8206-0572-4352-92b9-db0645bb1aa5, name=docs)\n",
      "Collection(id=276e8206-0572-4352-92b9-db0645bb1aa5, name=docs)\n",
      "Collection(id=276e8206-0572-4352-92b9-db0645bb1aa5, name=docs)\n",
      "Collection(id=276e8206-0572-4352-92b9-db0645bb1aa5, name=docs)\n",
      "Collection(id=276e8206-0572-4352-92b9-db0645bb1aa5, name=docs)\n",
      "Collection(id=276e8206-0572-4352-92b9-db0645bb1aa5, name=docs)\n",
      "Collection(id=276e8206-0572-4352-92b9-db0645bb1aa5, name=docs)\n",
      "Collection(id=276e8206-0572-4352-92b9-db0645bb1aa5, name=docs)\n",
      "Collection(id=276e8206-0572-4352-92b9-db0645bb1aa5, name=docs)\n",
      "Collection(id=276e8206-0572-4352-92b9-db0645bb1aa5, name=docs)\n",
      "Collection(id=276e8206-0572-4352-92b9-db0645bb1aa5, name=docs)\n",
      "Collection(id=276e8206-0572-4352-92b9-db0645bb1aa5, name=docs)\n",
      "Collection(id=276e8206-0572-4352-92b9-db0645bb1aa5, name=docs)\n",
      "Collection(id=276e8206-0572-4352-92b9-db0645bb1aa5, name=docs)\n",
      "Collection(id=276e8206-0572-4352-92b9-db0645bb1aa5, name=docs)\n",
      "Collection(id=276e8206-0572-4352-92b9-db0645bb1aa5, name=docs)\n"
     ]
    }
   ],
   "source": [
    "import chromadb\n",
    "import ollama\n",
    "\n",
    "chroma_client = chromadb.Client()\n",
    "\n",
    "collection = chroma_client.create_collection(name='docs')\n",
    "\n",
    "inputs = [x.page_content for x in chunks]\n",
    "\n",
    "for i, d in enumerate(inputs):\n",
    "  response = ollama.embeddings(model=\"llama2\", prompt=d)\n",
    "  embedding = response[\"embedding\"]\n",
    "  collection.add(\n",
    "    ids=[str(i)],\n",
    "    embeddings=[embedding],\n",
    "    documents=[d]\n",
    "  )\n",
    "  print(collection)"
   ]
  },
  {
   "cell_type": "code",
   "execution_count": 5,
   "metadata": {},
   "outputs": [
    {
     "data": {
      "text/plain": [
       "1"
      ]
     },
     "execution_count": 5,
     "metadata": {},
     "output_type": "execute_result"
    }
   ],
   "source": [
    "col1 = chroma_client.count_collections()\n",
    "col1"
   ]
  },
  {
   "cell_type": "code",
   "execution_count": 5,
   "metadata": {},
   "outputs": [
    {
     "data": {
      "text/plain": [
       "['Angular Standards\\n\\n\\nAngular Standards\\n\\n\\nIntroduction\\nUse Angular CLI\\nMaintain proper folder structure\\nFollow consistent Angular coding styles\\nUse ES6 features\\nUse trackBy along with ngFor\\nBreak down into small reusable components\\nUse Lazy Loading\\nUse Index.ts\\nAvoid logic in templates\\n Cache API calls\\nUse async pipe in templates\\nDeclare safe strings\\nAvoid any type when declaring constants and variables\\nState management\\nUse CDK Virtual Scroll',\n",
       " 'State managementIntroductionUse Angular CLIMaintain proper folder structureFollow consistent Angular coding stylesUse ES6 featuresUse trackBy along with ngForBreak down into small reusable componentsUse Lazy LoadingUse Index.tsAvoid logic in templates Cache API callsUse async pipe in templatesDeclare safe stringsAvoid any type when declaring constants and variablesState managementUse CDK Virtual ScrollState managementOne of the most challenging things in software development is state management. State management in Angular helps manage state transitions by storing the state of any form of data. There are several state management libraries for Angular (including NGRX, NGXS, Akita, etc.), all with different uses and purposes.We can choose suitable state management for our application before we implement it.Some benefits of using state management.It enables sharing data between different components.It provides centralized control for state transition.The code is cleaner and more readable.The code is easier to debug when something goes wrong.Dev tools are available for tracing and debugging state management libraries.',\n",
       " 'Use Angular CLIIntroductionUse Angular CLIMaintain proper folder structureFollow consistent Angular coding stylesUse ES6 featuresUse trackBy along with ngForBreak down into small reusable componentsUse Lazy LoadingUse Index.tsAvoid logic in templates Cache API callsUse async pipe in templatesDeclare safe stringsAvoid any type when declaring constants and variablesState managementUse CDK Virtual ScrollUse Angular CLIAngular CLI is one of the most powerful accessibility tools available when developing apps with Angular. Angular CLI makes it easy to create an application and follows best practices. Angular CLI is a command-line interface tool that is used to initialize, develop, scaffold, maintain, and test and debug Angular applications.Instead of creating files and folders manually, use Angular CLI to generate new components, directives, modules, services, and pipes.# Install Angular CLInpm install -g @angular/cli# Check Angular CLI versionng version',\n",
       " \"Avoid any type when declaring constants and variablesIntroductionUse Angular CLIMaintain proper folder structureFollow consistent Angular coding stylesUse ES6 featuresUse trackBy along with ngForBreak down into small reusable componentsUse Lazy LoadingUse Index.tsAvoid logic in templates Cache API callsUse async pipe in templatesDeclare safe stringsAvoid any type when declaring constants and variablesState managementUse CDK Virtual ScrollAvoid any type when declaring constants and variablesDeclare variables or constants with proper types other than any. This will reduce unintended problems. Another advantage of having good typing in our application is that it makes refactoring easier. If we had a proper typing, we would get a compile-time error as shown below:export interface HotFolder {    id: string;    folderName: string;    enabled: string;    processDefinitionName: string;    params: { [key: string]: string };}export class HotFoldersAddComponent implements OnInithotFolder: HotFolder;constructor() { }ngOnInit() {this.hotFolder = {id: 12345,folderName: ' /home/rsuite/test ',enabled: true,path: ‘test’}}}// ErrorType ‘{ id: number; foldername: string; path: string; }’ is not assignable to type ‘hotFolder.Object literal may only specify known properties, and ‘path does not exist in type ‘hotFolder.\",\n",
       " 'Declare safe stringsIntroductionUse Angular CLIMaintain proper folder structureFollow consistent Angular coding stylesUse ES6 featuresUse trackBy along with ngForBreak down into small reusable componentsUse Lazy LoadingUse Index.tsAvoid logic in templates Cache API callsUse async pipe in templatesDeclare safe stringsAvoid any type when declaring constants and variablesState managementUse CDK Virtual ScrollDeclare safe stringsThe variable of type string has only some set of values and we can declare the list of possible values as the type. So, the variable will accept only the possible values. We can avoid bugs while writing the code during compile time itself.Normal String declarationprivate taskName: string;// We can assign any string to taskName.this.taskName = \\'Quick task;Safe string declarationprivate taskName: \\'Quick task\\' | \\'Simple editorial\\';this. taskName = \\'\\'Quick task \\';this.taskName = \\'Simple editorial\\';this. taskName = \\'Workflow\\'; // This will give the below errorType \\'\"\\'Workflow\\'\"\\' is not assignable to type \\'\"Quick task\" | \"Simple editorial\"\\'']"
      ]
     },
     "execution_count": 5,
     "metadata": {},
     "output_type": "execute_result"
    }
   ],
   "source": [
    "prompt = \"What is Angular?\"\n",
    "\n",
    "response = ollama.embeddings(\n",
    "  prompt=prompt,\n",
    "  model=\"llama2\"\n",
    ")\n",
    "\n",
    "results = collection.query(\n",
    "  query_embeddings=[response[\"embedding\"]],\n",
    "  n_results=5\n",
    ")\n",
    "\n",
    "data = results['documents'][0]\n",
    "\n",
    "data"
   ]
  },
  {
   "cell_type": "code",
   "execution_count": 6,
   "metadata": {},
   "outputs": [
    {
     "data": {
      "text/plain": [
       "' Angular is a powerful open-source web application framework developed by Google. It allows developers to build dynamic, scalable, and maintainable applications using TypeScript and JavaScript. The framework provides various features such as data binding, dependency injection, modularity, routing, and reusable components that make it easy to develop complex web applications quickly and efficiently. Angular is based on the Model-View-Controller (MVC) architecture and is known for its flexibility, performance, and robustness. It also comes with a command-line tool called Angular CLI, which simplifies the creation, development, testing, and debugging of Angular applications.'"
      ]
     },
     "execution_count": 6,
     "metadata": {},
     "output_type": "execute_result"
    }
   ],
   "source": [
    "output = ollama.generate(\n",
    "  model=\"mistral\",\n",
    "  prompt=f\"Using this data: {data}. Respond to this prompt: {prompt}\"\n",
    ")\n",
    "output['response']"
   ]
  }
 ],
 "metadata": {
  "kernelspec": {
   "display_name": "chatbot-env",
   "language": "python",
   "name": "python3"
  },
  "language_info": {
   "codemirror_mode": {
    "name": "ipython",
    "version": 3
   },
   "file_extension": ".py",
   "mimetype": "text/x-python",
   "name": "python",
   "nbconvert_exporter": "python",
   "pygments_lexer": "ipython3",
   "version": "3.10.12"
  }
 },
 "nbformat": 4,
 "nbformat_minor": 2
}
