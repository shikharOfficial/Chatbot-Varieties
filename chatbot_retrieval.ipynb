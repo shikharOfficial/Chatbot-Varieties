{
 "cells": [
  {
   "cell_type": "code",
   "execution_count": 9,
   "metadata": {},
   "outputs": [],
   "source": [
    "from langchain_community.document_loaders import BSHTMLLoader, DirectoryLoader\n",
    "\n",
    "class HTMLDirectoryLoader:\n",
    "    def __init__(self, directory):\n",
    "        self.directory = directory\n",
    "\n",
    "    def load(self):\n",
    "        loader = DirectoryLoader(path=self.directory, glob=\"**/*.html\", loader_cls=BSHTMLLoader)\n",
    "        documents = loader.load()\n",
    "        return documents"
   ]
  },
  {
   "cell_type": "code",
   "execution_count": 10,
   "metadata": {},
   "outputs": [
    {
     "data": {
      "text/plain": [
       "17"
      ]
     },
     "execution_count": 10,
     "metadata": {},
     "output_type": "execute_result"
    }
   ],
   "source": [
    "import os\n",
    "\n",
    "input_dir = os.path.join(os.getcwd(), 'data')\n",
    "db_dir = os.path.join(os.getcwd(), 'database')\n",
    "loader = HTMLDirectoryLoader(input_dir)\n",
    "documents = loader.load()\n",
    "\n",
    "len(documents)"
   ]
  },
  {
   "cell_type": "code",
   "execution_count": 11,
   "metadata": {},
   "outputs": [
    {
     "data": {
      "text/plain": [
       "17"
      ]
     },
     "execution_count": 11,
     "metadata": {},
     "output_type": "execute_result"
    }
   ],
   "source": [
    "from langchain_text_splitters import RecursiveCharacterTextSplitter\n",
    "\n",
    "text_splitter = RecursiveCharacterTextSplitter(\n",
    "    chunk_size=200000,\n",
    "    chunk_overlap=70,\n",
    "    length_function=len,\n",
    ")\n",
    "\n",
    "chunks = text_splitter.split_documents(documents)\n",
    "\n",
    "len(chunks)"
   ]
  },
  {
   "cell_type": "code",
   "execution_count": 12,
   "metadata": {},
   "outputs": [
    {
     "data": {
      "text/plain": [
       "OllamaEmbeddings(base_url='http://localhost:11434', model='mistral', embed_instruction='passage: ', query_instruction='query: ', mirostat=None, mirostat_eta=None, mirostat_tau=None, num_ctx=None, num_gpu=None, num_thread=None, repeat_last_n=None, repeat_penalty=None, temperature=None, stop=None, tfs_z=None, top_k=None, top_p=None, show_progress=True, headers=None, model_kwargs=None)"
      ]
     },
     "execution_count": 12,
     "metadata": {},
     "output_type": "execute_result"
    }
   ],
   "source": [
    "from langchain_community.embeddings.ollama import OllamaEmbeddings\n",
    "\n",
    "embedding_func = OllamaEmbeddings(show_progress=True, model='mistral')\n",
    "embedding_func"
   ]
  },
  {
   "cell_type": "code",
   "execution_count": 9,
   "metadata": {},
   "outputs": [
    {
     "name": "stderr",
     "output_type": "stream",
     "text": [
      "OllamaEmbeddings: 100%|██████████| 17/17 [06:07<00:00, 21.62s/it]\n"
     ]
    },
    {
     "data": {
      "text/plain": [
       "<langchain_community.vectorstores.chroma.Chroma at 0x74f84a4e1210>"
      ]
     },
     "execution_count": 9,
     "metadata": {},
     "output_type": "execute_result"
    }
   ],
   "source": [
    "from langchain_community.vectorstores import Chroma\n",
    "\n",
    "vectordb = Chroma.from_documents(chunks, embedding=embedding_func, persist_directory=db_dir)\n",
    "\n",
    "vectordb"
   ]
  },
  {
   "cell_type": "code",
   "execution_count": 13,
   "metadata": {},
   "outputs": [
    {
     "data": {
      "text/plain": [
       "PromptTemplate(input_variables=['context', 'question'], template='\\nAnswer the question based on the context below. If you can\\'t answer the question, reply \"I don\\'t know\".\\nEnsure your responses are clear, concise, and helpful.\\n\\nContext: {context}\\n\\nQuestion: {question}\\n\\n')"
      ]
     },
     "execution_count": 13,
     "metadata": {},
     "output_type": "execute_result"
    }
   ],
   "source": [
    "from langchain.prompts import PromptTemplate\n",
    "\n",
    "PROMPT_TEMPLATE = \"\"\"\n",
    "Answer the question based on the context below. If you can't answer the question, reply \"I don't know\".\n",
    "Ensure your responses are clear, concise, and helpful.\n",
    "\n",
    "Context: {context}\n",
    "\n",
    "Question: {question}\n",
    "\n",
    "\"\"\"\n",
    "\n",
    "pt = PromptTemplate(\n",
    "            template=PROMPT_TEMPLATE, input_variables=[\"context\", \"question\"]\n",
    "    )\n",
    "\n",
    "pt"
   ]
  },
  {
   "cell_type": "code",
   "execution_count": 14,
   "metadata": {},
   "outputs": [
    {
     "name": "stderr",
     "output_type": "stream",
     "text": [
      "OllamaEmbeddings: 100%|██████████| 1/1 [00:00<00:00,  1.19it/s]\n"
     ]
    },
    {
     "name": "stdout",
     "output_type": "stream",
     "text": [
      "\n",
      "\n",
      "\u001b[1m> Entering new StuffDocumentsChain chain...\u001b[0m\n",
      "\n",
      "\n",
      "\u001b[1m> Entering new LLMChain chain...\u001b[0m\n",
      "Prompt after formatting:\n",
      "\u001b[32;1m\u001b[1;3m\n",
      "Answer the question based on the context below. If you can't answer the question, reply \"I don't know\".\n",
      "Ensure your responses are clear, concise, and helpful.\n",
      "\n",
      "Context: Cache API callsIntroductionUse Angular CLIMaintain proper folder structureFollow consistent Angular coding stylesUse ES6 featuresUse trackBy along with ngForBreak down into small reusable componentsUse Lazy LoadingUse Index.tsAvoid logic in templates Cache API callsUse async pipe in templatesDeclare safe stringsAvoid any type when declaring constants and variablesState managementUse CDK Virtual Scroll Cache API callsResponses from some API calls do not change frequently. In those cases, we can add a caching mechanism and store the value from an API. When another request to the same API is made, we get a response from the check. If there is no value available in the cache then we make an API call and store the result. Table 1We can introduce a cache time for some API calls when the value changes infrequently. Caching API calls and avoiding unwanted duplicate API calls improves speed of the application and ensures we do not download the same information repeatedly.\n",
      "\n",
      "IntroductionIntroductionUse Angular CLIMaintain proper folder structureFollow consistent Angular coding stylesUse ES6 featuresUse trackBy along with ngForBreak down into small reusable componentsUse Lazy LoadingUse Index.tsAvoid logic in templates Cache API callsUse async pipe in templatesDeclare safe stringsAvoid any type when declaring constants and variablesState managementUse CDK Virtual ScrollIntroductionOrbis Technologies develops and maintains enterprise CCMS software, solutions, and services to organizations worldwide. Orbis provide solutions to clients across various industries that including manufacturing, healthcare, publishing, healthcare insurance, education industries and the federal government. Table 1Table 1. TheadTheadTheadTheadWell written software offers many advantages.Well   written software offers many advantages.Well written software offers many advantages.Well written software offers many advantages.Well written software offers many advantages.&nbsp; It will contain fewer bugs and will run more efficiently than poorly written programs.&nbsp; Since software has a life cycle and much of which revolves around maintenance, it will be easier for the original developer(s) and future keepers of the code to maintain and modify the software as needed. This will lead to increased productivity of the developer(s). The overall cost of the software is greatly reduced when the code is developed and maintained according to software standards.&nbsp;Table 1The goal of these guidelines is to create uniform coding habits among software personnel in the engineering department so that reading, checking, and maintaining code written by different persons becomes easier. The intent of these standards is to define a natural style and consistency yet leave to the authors of the engineering department source code, the freedom to practice their craft without unnecessary burden.\n",
      "\n",
      "Use CDK Virtual ScrollIntroductionUse Angular CLIMaintain proper folder structureFollow consistent Angular coding stylesUse ES6 featuresUse trackBy along with ngForBreak down into small reusable componentsUse Lazy LoadingUse Index.tsAvoid logic in templates Cache API callsUse async pipe in templatesDeclare safe stringsAvoid any type when declaring constants and variablesState managementUse CDK Virtual ScrollUse CDK Virtual ScrollLoading hundreds of elements can be slow in any browser, but CDK virtual scroll support displays large lists of elements more efficiently. Virtual scrolling enables a performant way to simulate all items being rendered by making the height of the container element the same as the height of the total number of elements to be rendered, and then only rendering the items in view.\n",
      "\n",
      "Use ES6 featuresIntroductionUse Angular CLIMaintain proper folder structureFollow consistent Angular coding stylesUse ES6 featuresUse trackBy along with ngForBreak down into small reusable componentsUse Lazy LoadingUse Index.tsAvoid logic in templates Cache API callsUse async pipe in templatesDeclare safe stringsAvoid any type when declaring constants and variablesState managementUse CDK Virtual ScrollUse ES6 featuresECMAScript is constantly updated with new features and functionalities. The current version is ES6, which has lots of new features and functionalities that can be utilized in Angular.Here are a few ES6 Features:Arrow FunctionsString interpolationObject LiteralsLet and ConstDestructuringDefault\n",
      "\n",
      "Question: What are features of angular?\n",
      "\n",
      "\u001b[0m\n",
      "\n",
      "\u001b[1m> Finished chain.\u001b[0m\n",
      "\n",
      "\u001b[1m> Finished chain.\u001b[0m\n"
     ]
    },
    {
     "data": {
      "text/plain": [
       "{'query': 'What are features of angular?',\n",
       " 'history': '',\n",
       " 'result': ' The features of Angular mentioned in the context include:\\n\\n1. Proper folder structure and consistent Angular coding styles.\\n2. Use of ES6 features (e.g., Arrow Functions, String interpolation, Object Literals, Let and Const, Destructuring, Default).\\n3. Utilizing trackBy along with ngFor to break down components into small, reusable pieces.\\n4. Lazy Loading for optimized performance.\\n5. Use of async pipe in templates for efficient handling of asynchronous data.\\n6. Declaring safe strings and avoiding using the \"any\" type when declaring constants or variables for better type safety.\\n7. Utilizing CDK Virtual Scroll for efficient rendering of large lists.'}"
      ]
     },
     "execution_count": 14,
     "metadata": {},
     "output_type": "execute_result"
    }
   ],
   "source": [
    "from langchain.chains.retrieval_qa.base import RetrievalQA\n",
    "from langchain.memory import ConversationSummaryMemory\n",
    "from langchain_ollama.llms import OllamaLLM\n",
    "from langchain_community.vectorstores import Chroma\n",
    "\n",
    "model = OllamaLLM(model='mistral')\n",
    "\n",
    "database = Chroma(embedding_function=embedding_func, persist_directory=db_dir)\n",
    "\n",
    "rag = RetrievalQA.from_chain_type(\n",
    "            llm=model,\n",
    "            retriever=database.as_retriever(),\n",
    "            memory=ConversationSummaryMemory(llm = model),\n",
    "            chain_type_kwargs={\"prompt\": pt, \"verbose\": True},\n",
    "            \n",
    "        )\n",
    "\n",
    "rag.invoke(\"What are features of angular?\")"
   ]
  }
 ],
 "metadata": {
  "kernelspec": {
   "display_name": "chatbot-env",
   "language": "python",
   "name": "python3"
  },
  "language_info": {
   "codemirror_mode": {
    "name": "ipython",
    "version": 3
   },
   "file_extension": ".py",
   "mimetype": "text/x-python",
   "name": "python",
   "nbconvert_exporter": "python",
   "pygments_lexer": "ipython3",
   "version": "3.10.12"
  }
 },
 "nbformat": 4,
 "nbformat_minor": 2
}
