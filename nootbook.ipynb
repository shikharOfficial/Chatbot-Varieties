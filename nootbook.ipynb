{
 "cells": [
  {
   "cell_type": "code",
   "execution_count": 18,
   "metadata": {},
   "outputs": [
    {
     "name": "stdout",
     "output_type": "stream",
     "text": [
      "Requirement already satisfied: langchain in ./chatbot-env/lib/python3.10/site-packages (0.2.12)\n",
      "Requirement already satisfied: langchain_community in ./chatbot-env/lib/python3.10/site-packages (0.2.10)\n",
      "Requirement already satisfied: langchain_huggingface in ./chatbot-env/lib/python3.10/site-packages (0.0.3)\n",
      "Requirement already satisfied: chainlit in ./chatbot-env/lib/python3.10/site-packages (1.1.400)\n",
      "Requirement already satisfied: faiss-cpu in ./chatbot-env/lib/python3.10/site-packages (1.8.0.post1)\n",
      "Requirement already satisfied: ctransformers in ./chatbot-env/lib/python3.10/site-packages (0.2.27)\n",
      "Requirement already satisfied: langchainhub in ./chatbot-env/lib/python3.10/site-packages (0.1.20)\n",
      "Requirement already satisfied: pypdf in ./chatbot-env/lib/python3.10/site-packages (4.3.1)\n",
      "Requirement already satisfied: SQLAlchemy<3,>=1.4 in ./chatbot-env/lib/python3.10/site-packages (from langchain) (2.0.31)\n",
      "Requirement already satisfied: langchain-text-splitters<0.3.0,>=0.2.0 in ./chatbot-env/lib/python3.10/site-packages (from langchain) (0.2.2)\n",
      "Requirement already satisfied: requests<3,>=2 in ./chatbot-env/lib/python3.10/site-packages (from langchain) (2.32.3)\n",
      "Requirement already satisfied: async-timeout<5.0.0,>=4.0.0 in ./chatbot-env/lib/python3.10/site-packages (from langchain) (4.0.3)\n",
      "Requirement already satisfied: langsmith<0.2.0,>=0.1.17 in ./chatbot-env/lib/python3.10/site-packages (from langchain) (0.1.96)\n",
      "Requirement already satisfied: numpy<2,>=1 in ./chatbot-env/lib/python3.10/site-packages (from langchain) (1.26.4)\n",
      "Requirement already satisfied: langchain-core<0.3.0,>=0.2.27 in ./chatbot-env/lib/python3.10/site-packages (from langchain) (0.2.27)\n",
      "Requirement already satisfied: pydantic<3,>=1 in ./chatbot-env/lib/python3.10/site-packages (from langchain) (2.8.2)\n",
      "Requirement already satisfied: tenacity!=8.4.0,<9.0.0,>=8.1.0 in ./chatbot-env/lib/python3.10/site-packages (from langchain) (8.5.0)\n",
      "Requirement already satisfied: PyYAML>=5.3 in ./chatbot-env/lib/python3.10/site-packages (from langchain) (6.0.1)\n",
      "Requirement already satisfied: aiohttp<4.0.0,>=3.8.3 in ./chatbot-env/lib/python3.10/site-packages (from langchain) (3.10.0)\n",
      "Requirement already satisfied: dataclasses-json<0.7,>=0.5.7 in ./chatbot-env/lib/python3.10/site-packages (from langchain_community) (0.5.14)\n",
      "Requirement already satisfied: sentence-transformers>=2.6.0 in ./chatbot-env/lib/python3.10/site-packages (from langchain_huggingface) (3.0.1)\n",
      "Requirement already satisfied: tokenizers>=0.19.1 in ./chatbot-env/lib/python3.10/site-packages (from langchain_huggingface) (0.19.1)\n",
      "Requirement already satisfied: transformers>=4.39.0 in ./chatbot-env/lib/python3.10/site-packages (from langchain_huggingface) (4.43.3)\n",
      "Requirement already satisfied: huggingface-hub>=0.23.0 in ./chatbot-env/lib/python3.10/site-packages (from langchain_huggingface) (0.24.5)\n",
      "Requirement already satisfied: python-multipart<0.0.10,>=0.0.9 in ./chatbot-env/lib/python3.10/site-packages (from chainlit) (0.0.9)\n",
      "Requirement already satisfied: click<9.0.0,>=8.1.3 in ./chatbot-env/lib/python3.10/site-packages (from chainlit) (8.1.7)\n",
      "Requirement already satisfied: lazify<0.5.0,>=0.4.0 in ./chatbot-env/lib/python3.10/site-packages (from chainlit) (0.4.0)\n",
      "Requirement already satisfied: fastapi<0.111.0,>=0.110.1 in ./chatbot-env/lib/python3.10/site-packages (from chainlit) (0.110.3)\n",
      "Collecting packaging<24.0,>=23.1\n",
      "  Using cached packaging-23.2-py3-none-any.whl (53 kB)\n",
      "Requirement already satisfied: tomli<3.0.0,>=2.0.1 in ./chatbot-env/lib/python3.10/site-packages (from chainlit) (2.0.1)\n",
      "Requirement already satisfied: uvicorn<0.26.0,>=0.25.0 in ./chatbot-env/lib/python3.10/site-packages (from chainlit) (0.25.0)\n",
      "Requirement already satisfied: watchfiles<0.21.0,>=0.20.0 in ./chatbot-env/lib/python3.10/site-packages (from chainlit) (0.20.0)\n",
      "Requirement already satisfied: syncer<3.0.0,>=2.0.3 in ./chatbot-env/lib/python3.10/site-packages (from chainlit) (2.0.3)\n",
      "Requirement already satisfied: python-socketio<6.0.0,>=5.11.0 in ./chatbot-env/lib/python3.10/site-packages (from chainlit) (5.11.3)\n",
      "Requirement already satisfied: pyjwt<3.0.0,>=2.8.0 in ./chatbot-env/lib/python3.10/site-packages (from chainlit) (2.9.0)\n",
      "Requirement already satisfied: literalai==0.0.607 in ./chatbot-env/lib/python3.10/site-packages (from chainlit) (0.0.607)\n",
      "Requirement already satisfied: httpx>=0.23.0 in ./chatbot-env/lib/python3.10/site-packages (from chainlit) (0.27.0)\n",
      "Requirement already satisfied: starlette<0.38.0,>=0.37.2 in ./chatbot-env/lib/python3.10/site-packages (from chainlit) (0.37.2)\n",
      "Requirement already satisfied: filetype<2.0.0,>=1.2.0 in ./chatbot-env/lib/python3.10/site-packages (from chainlit) (1.2.0)\n",
      "Requirement already satisfied: uptrace<2.0.0,>=1.22.0 in ./chatbot-env/lib/python3.10/site-packages (from chainlit) (1.26.0)\n",
      "Requirement already satisfied: nest-asyncio<2.0.0,>=1.5.6 in ./chatbot-env/lib/python3.10/site-packages (from chainlit) (1.6.0)\n",
      "Requirement already satisfied: asyncer<0.0.3,>=0.0.2 in ./chatbot-env/lib/python3.10/site-packages (from chainlit) (0.0.2)\n",
      "Requirement already satisfied: python-dotenv<2.0.0,>=1.0.0 in ./chatbot-env/lib/python3.10/site-packages (from chainlit) (1.0.1)\n",
      "Requirement already satisfied: aiofiles<24.0.0,>=23.1.0 in ./chatbot-env/lib/python3.10/site-packages (from chainlit) (23.2.1)\n",
      "Requirement already satisfied: chevron>=0.14.0 in ./chatbot-env/lib/python3.10/site-packages (from literalai==0.0.607->chainlit) (0.14.0)\n",
      "Requirement already satisfied: py-cpuinfo<10.0.0,>=9.0.0 in ./chatbot-env/lib/python3.10/site-packages (from ctransformers) (9.0.0)\n",
      "Requirement already satisfied: types-requests<3.0.0.0,>=2.31.0.2 in ./chatbot-env/lib/python3.10/site-packages (from langchainhub) (2.32.0.20240712)\n",
      "Requirement already satisfied: typing_extensions>=4.0 in ./chatbot-env/lib/python3.10/site-packages (from pypdf) (4.12.2)\n",
      "Requirement already satisfied: attrs>=17.3.0 in ./chatbot-env/lib/python3.10/site-packages (from aiohttp<4.0.0,>=3.8.3->langchain) (23.2.0)\n",
      "Requirement already satisfied: aiohappyeyeballs>=2.3.0 in ./chatbot-env/lib/python3.10/site-packages (from aiohttp<4.0.0,>=3.8.3->langchain) (2.3.4)\n",
      "Requirement already satisfied: frozenlist>=1.1.1 in ./chatbot-env/lib/python3.10/site-packages (from aiohttp<4.0.0,>=3.8.3->langchain) (1.4.1)\n",
      "Requirement already satisfied: multidict<7.0,>=4.5 in ./chatbot-env/lib/python3.10/site-packages (from aiohttp<4.0.0,>=3.8.3->langchain) (6.0.5)\n",
      "Requirement already satisfied: yarl<2.0,>=1.0 in ./chatbot-env/lib/python3.10/site-packages (from aiohttp<4.0.0,>=3.8.3->langchain) (1.9.4)\n",
      "Requirement already satisfied: aiosignal>=1.1.2 in ./chatbot-env/lib/python3.10/site-packages (from aiohttp<4.0.0,>=3.8.3->langchain) (1.3.1)\n",
      "Requirement already satisfied: anyio<4.0.0,>=3.4.0 in ./chatbot-env/lib/python3.10/site-packages (from asyncer<0.0.3,>=0.0.2->chainlit) (3.7.1)\n",
      "Requirement already satisfied: marshmallow<4.0.0,>=3.18.0 in ./chatbot-env/lib/python3.10/site-packages (from dataclasses-json<0.7,>=0.5.7->langchain_community) (3.21.3)\n",
      "Requirement already satisfied: typing-inspect<1,>=0.4.0 in ./chatbot-env/lib/python3.10/site-packages (from dataclasses-json<0.7,>=0.5.7->langchain_community) (0.9.0)\n",
      "Requirement already satisfied: httpcore==1.* in ./chatbot-env/lib/python3.10/site-packages (from httpx>=0.23.0->chainlit) (1.0.5)\n",
      "Requirement already satisfied: idna in ./chatbot-env/lib/python3.10/site-packages (from httpx>=0.23.0->chainlit) (3.7)\n",
      "Requirement already satisfied: sniffio in ./chatbot-env/lib/python3.10/site-packages (from httpx>=0.23.0->chainlit) (1.3.1)\n",
      "Requirement already satisfied: certifi in ./chatbot-env/lib/python3.10/site-packages (from httpx>=0.23.0->chainlit) (2024.7.4)\n",
      "Requirement already satisfied: h11<0.15,>=0.13 in ./chatbot-env/lib/python3.10/site-packages (from httpcore==1.*->httpx>=0.23.0->chainlit) (0.14.0)\n",
      "Requirement already satisfied: filelock in ./chatbot-env/lib/python3.10/site-packages (from huggingface-hub>=0.23.0->langchain_huggingface) (3.15.4)\n",
      "Requirement already satisfied: tqdm>=4.42.1 in ./chatbot-env/lib/python3.10/site-packages (from huggingface-hub>=0.23.0->langchain_huggingface) (4.66.4)\n",
      "Requirement already satisfied: fsspec>=2023.5.0 in ./chatbot-env/lib/python3.10/site-packages (from huggingface-hub>=0.23.0->langchain_huggingface) (2024.6.1)\n",
      "Requirement already satisfied: jsonpatch<2.0,>=1.33 in ./chatbot-env/lib/python3.10/site-packages (from langchain-core<0.3.0,>=0.2.27->langchain) (1.33)\n",
      "Requirement already satisfied: orjson<4.0.0,>=3.9.14 in ./chatbot-env/lib/python3.10/site-packages (from langsmith<0.2.0,>=0.1.17->langchain) (3.10.6)\n",
      "Requirement already satisfied: annotated-types>=0.4.0 in ./chatbot-env/lib/python3.10/site-packages (from pydantic<3,>=1->langchain) (0.7.0)\n",
      "Requirement already satisfied: pydantic-core==2.20.1 in ./chatbot-env/lib/python3.10/site-packages (from pydantic<3,>=1->langchain) (2.20.1)\n",
      "Requirement already satisfied: bidict>=0.21.0 in ./chatbot-env/lib/python3.10/site-packages (from python-socketio<6.0.0,>=5.11.0->chainlit) (0.23.1)\n",
      "Requirement already satisfied: python-engineio>=4.8.0 in ./chatbot-env/lib/python3.10/site-packages (from python-socketio<6.0.0,>=5.11.0->chainlit) (4.9.1)\n",
      "Requirement already satisfied: urllib3<3,>=1.21.1 in ./chatbot-env/lib/python3.10/site-packages (from requests<3,>=2->langchain) (2.2.2)\n",
      "Requirement already satisfied: charset-normalizer<4,>=2 in ./chatbot-env/lib/python3.10/site-packages (from requests<3,>=2->langchain) (3.3.2)\n",
      "Requirement already satisfied: scikit-learn in ./chatbot-env/lib/python3.10/site-packages (from sentence-transformers>=2.6.0->langchain_huggingface) (1.5.1)\n",
      "Requirement already satisfied: Pillow in ./chatbot-env/lib/python3.10/site-packages (from sentence-transformers>=2.6.0->langchain_huggingface) (10.4.0)\n",
      "Requirement already satisfied: scipy in ./chatbot-env/lib/python3.10/site-packages (from sentence-transformers>=2.6.0->langchain_huggingface) (1.14.0)\n",
      "Requirement already satisfied: torch>=1.11.0 in ./chatbot-env/lib/python3.10/site-packages (from sentence-transformers>=2.6.0->langchain_huggingface) (2.4.0)\n",
      "Requirement already satisfied: greenlet!=0.4.17 in ./chatbot-env/lib/python3.10/site-packages (from SQLAlchemy<3,>=1.4->langchain) (3.0.3)\n",
      "Requirement already satisfied: safetensors>=0.4.1 in ./chatbot-env/lib/python3.10/site-packages (from transformers>=4.39.0->langchain_huggingface) (0.4.3)\n",
      "Requirement already satisfied: regex!=2019.12.17 in ./chatbot-env/lib/python3.10/site-packages (from transformers>=4.39.0->langchain_huggingface) (2024.7.24)\n",
      "Requirement already satisfied: opentelemetry-instrumentation~=0.47b0 in ./chatbot-env/lib/python3.10/site-packages (from uptrace<2.0.0,>=1.22.0->chainlit) (0.47b0)\n",
      "Requirement already satisfied: opentelemetry-api~=1.26 in ./chatbot-env/lib/python3.10/site-packages (from uptrace<2.0.0,>=1.22.0->chainlit) (1.26.0)\n",
      "Requirement already satisfied: opentelemetry-exporter-otlp~=1.26 in ./chatbot-env/lib/python3.10/site-packages (from uptrace<2.0.0,>=1.22.0->chainlit) (1.26.0)\n",
      "Requirement already satisfied: opentelemetry-sdk~=1.26 in ./chatbot-env/lib/python3.10/site-packages (from uptrace<2.0.0,>=1.22.0->chainlit) (1.26.0)\n",
      "Requirement already satisfied: exceptiongroup in ./chatbot-env/lib/python3.10/site-packages (from anyio<4.0.0,>=3.4.0->asyncer<0.0.3,>=0.0.2->chainlit) (1.2.2)\n",
      "Requirement already satisfied: jsonpointer>=1.9 in ./chatbot-env/lib/python3.10/site-packages (from jsonpatch<2.0,>=1.33->langchain-core<0.3.0,>=0.2.27->langchain) (3.0.0)\n",
      "Requirement already satisfied: deprecated>=1.2.6 in ./chatbot-env/lib/python3.10/site-packages (from opentelemetry-api~=1.26->uptrace<2.0.0,>=1.22.0->chainlit) (1.2.14)\n",
      "Requirement already satisfied: importlib-metadata<=8.0.0,>=6.0 in ./chatbot-env/lib/python3.10/site-packages (from opentelemetry-api~=1.26->uptrace<2.0.0,>=1.22.0->chainlit) (8.0.0)\n",
      "Requirement already satisfied: opentelemetry-exporter-otlp-proto-grpc==1.26.0 in ./chatbot-env/lib/python3.10/site-packages (from opentelemetry-exporter-otlp~=1.26->uptrace<2.0.0,>=1.22.0->chainlit) (1.26.0)\n",
      "Requirement already satisfied: opentelemetry-exporter-otlp-proto-http==1.26.0 in ./chatbot-env/lib/python3.10/site-packages (from opentelemetry-exporter-otlp~=1.26->uptrace<2.0.0,>=1.22.0->chainlit) (1.26.0)\n",
      "Requirement already satisfied: grpcio<2.0.0,>=1.0.0 in ./chatbot-env/lib/python3.10/site-packages (from opentelemetry-exporter-otlp-proto-grpc==1.26.0->opentelemetry-exporter-otlp~=1.26->uptrace<2.0.0,>=1.22.0->chainlit) (1.65.2)\n",
      "Requirement already satisfied: googleapis-common-protos~=1.52 in ./chatbot-env/lib/python3.10/site-packages (from opentelemetry-exporter-otlp-proto-grpc==1.26.0->opentelemetry-exporter-otlp~=1.26->uptrace<2.0.0,>=1.22.0->chainlit) (1.63.2)\n",
      "Requirement already satisfied: opentelemetry-exporter-otlp-proto-common==1.26.0 in ./chatbot-env/lib/python3.10/site-packages (from opentelemetry-exporter-otlp-proto-grpc==1.26.0->opentelemetry-exporter-otlp~=1.26->uptrace<2.0.0,>=1.22.0->chainlit) (1.26.0)\n",
      "Requirement already satisfied: opentelemetry-proto==1.26.0 in ./chatbot-env/lib/python3.10/site-packages (from opentelemetry-exporter-otlp-proto-grpc==1.26.0->opentelemetry-exporter-otlp~=1.26->uptrace<2.0.0,>=1.22.0->chainlit) (1.26.0)\n",
      "Requirement already satisfied: protobuf<5.0,>=3.19 in ./chatbot-env/lib/python3.10/site-packages (from opentelemetry-proto==1.26.0->opentelemetry-exporter-otlp-proto-grpc==1.26.0->opentelemetry-exporter-otlp~=1.26->uptrace<2.0.0,>=1.22.0->chainlit) (4.25.4)\n",
      "Requirement already satisfied: setuptools>=16.0 in ./chatbot-env/lib/python3.10/site-packages (from opentelemetry-instrumentation~=0.47b0->uptrace<2.0.0,>=1.22.0->chainlit) (59.6.0)\n",
      "Requirement already satisfied: wrapt<2.0.0,>=1.0.0 in ./chatbot-env/lib/python3.10/site-packages (from opentelemetry-instrumentation~=0.47b0->uptrace<2.0.0,>=1.22.0->chainlit) (1.16.0)\n",
      "Requirement already satisfied: opentelemetry-semantic-conventions==0.47b0 in ./chatbot-env/lib/python3.10/site-packages (from opentelemetry-sdk~=1.26->uptrace<2.0.0,>=1.22.0->chainlit) (0.47b0)\n",
      "Requirement already satisfied: simple-websocket>=0.10.0 in ./chatbot-env/lib/python3.10/site-packages (from python-engineio>=4.8.0->python-socketio<6.0.0,>=5.11.0->chainlit) (1.0.0)\n",
      "Requirement already satisfied: nvidia-cusparse-cu12==12.1.0.106 in ./chatbot-env/lib/python3.10/site-packages (from torch>=1.11.0->sentence-transformers>=2.6.0->langchain_huggingface) (12.1.0.106)\n",
      "Requirement already satisfied: nvidia-cudnn-cu12==9.1.0.70 in ./chatbot-env/lib/python3.10/site-packages (from torch>=1.11.0->sentence-transformers>=2.6.0->langchain_huggingface) (9.1.0.70)\n",
      "Requirement already satisfied: nvidia-cuda-nvrtc-cu12==12.1.105 in ./chatbot-env/lib/python3.10/site-packages (from torch>=1.11.0->sentence-transformers>=2.6.0->langchain_huggingface) (12.1.105)\n",
      "Requirement already satisfied: nvidia-cuda-runtime-cu12==12.1.105 in ./chatbot-env/lib/python3.10/site-packages (from torch>=1.11.0->sentence-transformers>=2.6.0->langchain_huggingface) (12.1.105)\n",
      "Requirement already satisfied: nvidia-nccl-cu12==2.20.5 in ./chatbot-env/lib/python3.10/site-packages (from torch>=1.11.0->sentence-transformers>=2.6.0->langchain_huggingface) (2.20.5)\n",
      "Requirement already satisfied: networkx in ./chatbot-env/lib/python3.10/site-packages (from torch>=1.11.0->sentence-transformers>=2.6.0->langchain_huggingface) (3.3)\n",
      "Requirement already satisfied: sympy in ./chatbot-env/lib/python3.10/site-packages (from torch>=1.11.0->sentence-transformers>=2.6.0->langchain_huggingface) (1.13.1)\n",
      "Requirement already satisfied: triton==3.0.0 in ./chatbot-env/lib/python3.10/site-packages (from torch>=1.11.0->sentence-transformers>=2.6.0->langchain_huggingface) (3.0.0)\n",
      "Requirement already satisfied: nvidia-cufft-cu12==11.0.2.54 in ./chatbot-env/lib/python3.10/site-packages (from torch>=1.11.0->sentence-transformers>=2.6.0->langchain_huggingface) (11.0.2.54)\n",
      "Requirement already satisfied: nvidia-cuda-cupti-cu12==12.1.105 in ./chatbot-env/lib/python3.10/site-packages (from torch>=1.11.0->sentence-transformers>=2.6.0->langchain_huggingface) (12.1.105)\n",
      "Requirement already satisfied: nvidia-cusolver-cu12==11.4.5.107 in ./chatbot-env/lib/python3.10/site-packages (from torch>=1.11.0->sentence-transformers>=2.6.0->langchain_huggingface) (11.4.5.107)\n",
      "Requirement already satisfied: nvidia-cublas-cu12==12.1.3.1 in ./chatbot-env/lib/python3.10/site-packages (from torch>=1.11.0->sentence-transformers>=2.6.0->langchain_huggingface) (12.1.3.1)\n",
      "Requirement already satisfied: jinja2 in ./chatbot-env/lib/python3.10/site-packages (from torch>=1.11.0->sentence-transformers>=2.6.0->langchain_huggingface) (3.1.4)\n",
      "Requirement already satisfied: nvidia-nvtx-cu12==12.1.105 in ./chatbot-env/lib/python3.10/site-packages (from torch>=1.11.0->sentence-transformers>=2.6.0->langchain_huggingface) (12.1.105)\n",
      "Requirement already satisfied: nvidia-curand-cu12==10.3.2.106 in ./chatbot-env/lib/python3.10/site-packages (from torch>=1.11.0->sentence-transformers>=2.6.0->langchain_huggingface) (10.3.2.106)\n",
      "Requirement already satisfied: nvidia-nvjitlink-cu12 in ./chatbot-env/lib/python3.10/site-packages (from nvidia-cusolver-cu12==11.4.5.107->torch>=1.11.0->sentence-transformers>=2.6.0->langchain_huggingface) (12.6.20)\n",
      "Requirement already satisfied: mypy-extensions>=0.3.0 in ./chatbot-env/lib/python3.10/site-packages (from typing-inspect<1,>=0.4.0->dataclasses-json<0.7,>=0.5.7->langchain_community) (1.0.0)\n",
      "Requirement already satisfied: threadpoolctl>=3.1.0 in ./chatbot-env/lib/python3.10/site-packages (from scikit-learn->sentence-transformers>=2.6.0->langchain_huggingface) (3.5.0)\n",
      "Requirement already satisfied: joblib>=1.2.0 in ./chatbot-env/lib/python3.10/site-packages (from scikit-learn->sentence-transformers>=2.6.0->langchain_huggingface) (1.4.2)\n",
      "Requirement already satisfied: zipp>=0.5 in ./chatbot-env/lib/python3.10/site-packages (from importlib-metadata<=8.0.0,>=6.0->opentelemetry-api~=1.26->uptrace<2.0.0,>=1.22.0->chainlit) (3.19.2)\n",
      "Requirement already satisfied: wsproto in ./chatbot-env/lib/python3.10/site-packages (from simple-websocket>=0.10.0->python-engineio>=4.8.0->python-socketio<6.0.0,>=5.11.0->chainlit) (1.2.0)\n",
      "Requirement already satisfied: MarkupSafe>=2.0 in ./chatbot-env/lib/python3.10/site-packages (from jinja2->torch>=1.11.0->sentence-transformers>=2.6.0->langchain_huggingface) (2.1.5)\n",
      "Requirement already satisfied: mpmath<1.4,>=1.1.0 in ./chatbot-env/lib/python3.10/site-packages (from sympy->torch>=1.11.0->sentence-transformers>=2.6.0->langchain_huggingface) (1.3.0)\n",
      "Installing collected packages: packaging\n",
      "  Attempting uninstall: packaging\n",
      "    Found existing installation: packaging 24.1\n",
      "    Uninstalling packaging-24.1:\n",
      "      Successfully uninstalled packaging-24.1\n",
      "Successfully installed packaging-23.2\n",
      "Note: you may need to restart the kernel to use updated packages.\n"
     ]
    }
   ],
   "source": [
    "%pip install langchain langchain_community langchain_huggingface chainlit faiss-cpu ctransformers langchainhub pypdf"
   ]
  },
  {
   "cell_type": "code",
   "execution_count": 25,
   "metadata": {},
   "outputs": [
    {
     "data": {
      "text/plain": [
       "'/home/metapercept/ChatbotTest/data/PDF/Aurigo'"
      ]
     },
     "execution_count": 25,
     "metadata": {},
     "output_type": "execute_result"
    }
   ],
   "source": [
    "from langchain.prompts import PromptTemplate\n",
    "from langchain_huggingface import HuggingFaceEmbeddings\n",
    "from langchain_community.vectorstores import FAISS\n",
    "from langchain_community.llms.ctransformers import CTransformers\n",
    "from langchain.chains.retrieval_qa.base import RetrievalQA\n",
    "from langchain_community.document_loaders import PyPDFLoader, DirectoryLoader\n",
    "from langchain.text_splitter import RecursiveCharacterTextSplitter\n",
    "import chainlit as cl\n",
    "import os\n",
    "\n",
    "DB_FAISS_PATH = os.path.join(os.getcwd(), 'vectorstores/db_faiss')\n",
    "DATA_PATH = os.path.join(os.getcwd(), 'data/PDF/Aurigo')\n",
    "\n",
    "custom_prompt_template = \"\"\"Use the following pieces of context to answer the question at the end. If you don't know the answer, just say that you don't know, don't try to make up an answer.\n",
    "\n",
    "        Contexts: {context}\n",
    "\n",
    "        Question: {question}\n",
    "        Helpful Answer:\"\"\"\n",
    "        \n",
    "DB_FAISS_PATH\n",
    "DATA_PATH"
   ]
  },
  {
   "cell_type": "code",
   "execution_count": 26,
   "metadata": {},
   "outputs": [
    {
     "data": {
      "text/plain": [
       "PromptTemplate(input_variables=['context', 'question'], template=\"Use the following pieces of context to answer the question at the end. If you don't know the answer, just say that you don't know, don't try to make up an answer.\\n\\n        Contexts: {context}\\n\\n        Question: {question}\\n        Helpful Answer:\")"
      ]
     },
     "execution_count": 26,
     "metadata": {},
     "output_type": "execute_result"
    }
   ],
   "source": [
    "def set_custom_prompt():\n",
    "    \"\"\"\n",
    "    Prompt template for QA retrieval for each vectorstore\n",
    "    \"\"\"\n",
    "    prompt = PromptTemplate(template=custom_prompt_template,\n",
    "                            input_variables=['context', 'question'])\n",
    "    return prompt\n",
    "\n",
    "prompt = set_custom_prompt()\n",
    "prompt"
   ]
  },
  {
   "cell_type": "code",
   "execution_count": 27,
   "metadata": {},
   "outputs": [
    {
     "name": "stderr",
     "output_type": "stream",
     "text": [
      "Fetching 1 files: 100%|██████████| 1/1 [00:00<00:00, 23967.45it/s]\n",
      "Fetching 1 files: 100%|██████████| 1/1 [00:00<00:00, 14926.35it/s]\n"
     ]
    },
    {
     "data": {
      "text/plain": [
       "CTransformers(client=<ctransformers.llm.LLM object at 0x7b5e4d0e8a30>, model='TheBloke/Llama-2-7B-Chat-GGML', model_type='llama', config={'temperature': 0.01, 'max_new_tokens': 600, 'context_length': 1200})"
      ]
     },
     "execution_count": 27,
     "metadata": {},
     "output_type": "execute_result"
    }
   ],
   "source": [
    "llm = CTransformers(\n",
    "            model=\"TheBloke/Llama-2-7B-Chat-GGML\",\n",
    "            model_type=\"llama\",\n",
    "            # gpu_layers=110,\n",
    "            config={\n",
    "                'temperature': 0.01,\n",
    "                'max_new_tokens': 600,\n",
    "                'context_length': 1200,\n",
    "            }\n",
    "        )\n",
    "llm"
   ]
  },
  {
   "cell_type": "code",
   "execution_count": 28,
   "metadata": {},
   "outputs": [
    {
     "name": "stdout",
     "output_type": "stream",
     "text": [
      "2024-08-05 13:04:56 - Load pretrained SentenceTransformer: sentence-transformers/all-MiniLM-L6-v2\n"
     ]
    },
    {
     "data": {
      "text/plain": [
       "HuggingFaceEmbeddings(client=SentenceTransformer(\n",
       "  (0): Transformer({'max_seq_length': 256, 'do_lower_case': False}) with Transformer model: BertModel \n",
       "  (1): Pooling({'word_embedding_dimension': 384, 'pooling_mode_cls_token': False, 'pooling_mode_mean_tokens': True, 'pooling_mode_max_tokens': False, 'pooling_mode_mean_sqrt_len_tokens': False, 'pooling_mode_weightedmean_tokens': False, 'pooling_mode_lasttoken': False, 'include_prompt': True})\n",
       "  (2): Normalize()\n",
       "), model_name='sentence-transformers/all-MiniLM-L6-v2', cache_folder=None, model_kwargs={'device': 'cpu'}, encode_kwargs={}, multi_process=False, show_progress=False)"
      ]
     },
     "execution_count": 28,
     "metadata": {},
     "output_type": "execute_result"
    }
   ],
   "source": [
    "embeddings = HuggingFaceEmbeddings(model_name=\"sentence-transformers/all-MiniLM-L6-v2\", model_kwargs={'device': 'cpu'})\n",
    "embeddings"
   ]
  },
  {
   "cell_type": "code",
   "execution_count": 29,
   "metadata": {},
   "outputs": [
    {
     "data": {
      "text/plain": [
       "[Document(metadata={'source': '/home/metapercept/ChatbotTest/data/PDF/Aurigo/Aurigo-Engage.pdf', 'page': 0}, page_content='Canceling the Subscription'),\n",
       " Document(metadata={'source': '/home/metapercept/ChatbotTest/data/PDF/Aurigo/Aurigo-Engage.pdf', 'page': 1}, page_content='| Contents | ii\\nContents\\nCanceling the Subscription ......................................................................................6\\nCampaigning for Projects ........................................................................................6\\nContact Us .................................................................................................................6\\nIntroduction to Aurigo Engage ...............................................................................6\\nClosing a Campaign .................................................................................................7\\nEngage Home ............................................................................................................7\\nIntroduction to Aurigo Engage User Interface .....................................................8\\nCopying the Public Portal URL ............................................................................10'),\n",
       " Document(metadata={'source': '/home/metapercept/ChatbotTest/data/PDF/Aurigo/Aurigo-Engage.pdf', 'page': 1}, page_content='Logging Out of Aurigo Engage .............................................................................10\\nCreating a Campaign .............................................................................................10\\nManaging Your Plan ..............................................................................................11\\nDeleting a Campaign ..............................................................................................11\\nDownloading a QR Code .......................................................................................12\\nViewing the Subscription Details ..........................................................................12\\nIntroduction .........................................................................................................................................................12\\nManaging Projects in a Campaign .......................................................................12'),\n",
       " Document(metadata={'source': '/home/metapercept/ChatbotTest/data/PDF/Aurigo/Aurigo-Engage.pdf', 'page': 1}, page_content='Viewing the Transaction History ..........................................................................13'),\n",
       " Document(metadata={'source': '/home/metapercept/ChatbotTest/data/PDF/Aurigo/Aurigo-Engage.pdf', 'page': 2}, page_content='| Contents | iii\\nChanging Password ................................................................................................13\\nPosting a Campaign on Social Media ...................................................................14\\nModifying User Preferences ..................................................................................14\\nPublishing a Campaign ..........................................................................................15\\nRetrieving Password ...............................................................................................15\\nWithdrawing a Campaign .....................................................................................16\\nPublic Portal Users .................................................................................................16\\nRating and Sharing Comments for a Project ......................................................16'),\n",
       " Document(metadata={'source': '/home/metapercept/ChatbotTest/data/PDF/Aurigo/Aurigo-Engage.pdf', 'page': 2}, page_content='Rating and Sharing Comments for a Project ......................................................16\\nCampaign Reports ..................................................................................................17\\nSearching a Project .................................................................................................18\\nAnalyzing a Campaign ...........................................................................................18\\nPreviewing a Campaign .........................................................................................18\\nViewing a Project ....................................................................................................18\\nAnalyzing a Campaign by Comments ..................................................................18\\nResponding to Comments ......................................................................................19'),\n",
       " Document(metadata={'source': '/home/metapercept/ChatbotTest/data/PDF/Aurigo/Aurigo-Engage.pdf', 'page': 2}, page_content='Application Settings ................................................................................................19\\nViewing and Downloading Reference Documents ...............................................20\\nAnalyzing a Campaign by Projects ......................................................................20'),\n",
       " Document(metadata={'source': '/home/metapercept/ChatbotTest/data/PDF/Aurigo/Aurigo-Engage.pdf', 'page': 3}, page_content='| Contents | iv\\nGenerating a Report ...............................................................................................20\\nViewing Analytics for Campaigns and Projects ..................................................21\\nAdding Form Fields ................................................................................................21\\nCategories .................................................................................................................21\\nViewing Promotional Details .................................................................................22\\nGenerating Reports .................................................................................................22\\nViewing Campaigns ................................................................................................22\\nAdding Users ...........................................................................................................22'),\n",
       " Document(metadata={'source': '/home/metapercept/ChatbotTest/data/PDF/Aurigo/Aurigo-Engage.pdf', 'page': 3}, page_content='Adding Layouts and Fonts ....................................................................................23\\nGeneral Settings ......................................................................................................23\\nPrinting a Report ....................................................................................................23\\nViewing Campaigns in Accepting Comments Status ..........................................24\\nDeleting a User ........................................................................................................24\\nManaging a Template .............................................................................................24\\nUser Roles ................................................................................................................24\\nProject Fields ...........................................................................................................25'),\n",
       " Document(metadata={'source': '/home/metapercept/ChatbotTest/data/PDF/Aurigo/Aurigo-Engage.pdf', 'page': 3}, page_content='Saving a Report ......................................................................................................25\\nViewing Campaigns in Completed Status ............................................................25'),\n",
       " Document(metadata={'source': '/home/metapercept/ChatbotTest/data/PDF/Aurigo/Aurigo-Engage.pdf', 'page': 4}, page_content='| Contents | v\\nUpdating User Details ............................................................................................25\\nPublic Portal Settings .............................................................................................26\\nTerms of Use Settings ............................................................................................26\\nViewing Campaigns in Draft Status .....................................................................26\\nUser Management ...................................................................................................26'),\n",
       " Document(metadata={'source': '/home/metapercept/ChatbotTest/data/PDF/Aurigo/Aurigo-Engage.pdf', 'page': 5}, page_content=\"| Canceling the Subscription  | 6\\nCanceling the Subscription\\nYou can cancel your subscription at any time.\\n1.In the Home page, click the initials of your user name at the top right corner of the page.\\n2.From the drop-down list, click Subscription Details  . The Subscription Details  page is displayed.\\n3.Click Cancel Subscription .\\n4.Click OK in the dialog box. Your subscription is canceled but will be valid until your current plan expires. \\nFigure 1. Cancel Subscription Dialog Box\\nCampaigning for Projects\\nAurigo Engage enables you to;\\n•Create campaigns with the appropriate project information\\n•Collect and respond to public feedback\\n•Draw the valuable insights to keep the general public aware of proposed projects\\n•Receive general public's valuable feedback on the projects\\nCampaigning new projects involves the following stages:\\n1.Creating a campaign\\n2.Managing projects in a campaign\\n3.Publishing a campaign\\n4.Posting a campaign on social media\\n5.Withdrawing a campaign\"),\n",
       " Document(metadata={'source': '/home/metapercept/ChatbotTest/data/PDF/Aurigo/Aurigo-Engage.pdf', 'page': 5}, page_content='3.Publishing a campaign\\n4.Posting a campaign on social media\\n5.Withdrawing a campaign\\n6.Copying the public portal URL\\n7.Downloading a QR Code\\n8.Deleting a campaign\\n9.Closing a campaign\\nContact Us\\nYou can contact us for any queries related to support and sales.\\n1.In the Home page, click the initials of your user name at the top right corner of the page.\\n2.From the drop-down list, click Contact Us  . The Contact us for any queries!  window is displayed.  Figure 1.\\nContract us for any queries!\\nIntroduction to Aurigo Engage\\nAurigo Engage is a software as a service (SaaS) based product that enables infrastructure and construction agencies\\nto efficiently collaborate with general public potentially using a proposed infrastructure. Aurigo Engage is a reliable\\nfull-featured web-based solution to determine general public sentiments on proposed projects. It is designed to collate\\nand analyze general public feedback on potential projects early in the capital planning process. Aurigo Engage uses'),\n",
       " Document(metadata={'source': '/home/metapercept/ChatbotTest/data/PDF/Aurigo/Aurigo-Engage.pdf', 'page': 5}, page_content='robust artificial intelligence (AI) tools to perform powerful analysis on the collated feedback and provides critical\\ninsights into user sentiment so agencies can decide on the best approach to the proposed project.'),\n",
       " Document(metadata={'source': '/home/metapercept/ChatbotTest/data/PDF/Aurigo/Aurigo-Engage.pdf', 'page': 6}, page_content='| Closing a Campaign  | 7\\nAurigo Engage enables agencies to easily create and effectively promote campaigns for proposed capital projects,\\nsolicit feedback from potential users of the infrastructure, analyze feedback, acknowledge, and respond to feedback.\\nAurigo Engage enables general public to view details of proposed projects in campaigns and voice their opinions on\\nthe projects.\\nOnce a campaign with information on the proposed project is created, infrastructure and construction agencies can\\nbroadcast and promote these campaigns using social media such as Facebook, Twitter, LinkedIn, and other media to\\nsolicit feedback. Aurigo Engage then performs powerful sentimental analysis on the feedback received and presents\\nanalyzed information efficiently. Based on these effective illustrations of general public sentiment that Aurigo Engage\\nprovides, agencies can now make informed decisions on proposed projects.\\nAurigo Engage involves the following phases:'),\n",
       " Document(metadata={'source': '/home/metapercept/ChatbotTest/data/PDF/Aurigo/Aurigo-Engage.pdf', 'page': 6}, page_content='Aurigo Engage involves the following phases:\\n1.Configure application settings  to customize the application.\\n2.Manage application users .\\n3.Personalize the public portal template and theme .\\n4.Create a campaign  with information on the proposed project.\\n5.Create a public portal  for the general public to participate in a campaign and share their feedback.\\n6.Promote campaigns using social platforms to increase the demographics and user base for augmented user\\ninvolvement.\\n7.Accept, analyze, and respond  to the comments from general public for a campaign.\\n8.Generate reports  based on the sentiments of the comments received from the general public.\\nClosing a Campaign\\nThe campaign is in COMPLETED  status.\\nYou can close a campaign in the All Campaigns  page.\\n1.In the Home page, click Home , and then click All Campaigns  . The All Campaigns  page is displayed.\\n2.In the Your campaigns  section, select the appropriate campaign in COMPLETED  status, and click  .'),\n",
       " Document(metadata={'source': '/home/metapercept/ChatbotTest/data/PDF/Aurigo/Aurigo-Engage.pdf', 'page': 6}, page_content='3.From the drop-down list, select Close Campaign  . A confirmation dialog box is displayed.\\n4.Click Yes . The campaign is closed successfully, and the status is changed to CLOSED  status.\\nEngage Home\\nThe Home page displays the list of all available campaigns with their statuses and enables the agency users to view a\\nsummary of the campaign details. The project campaigns have the following statuses:\\n•Draft\\n•Published\\n•Accepting comments\\n•Withdrawn\\n•Completed\\n•Closed\\nStatus Description\\nDRAFT•During campaign creation, the status of the\\ncampaign is in the DRAFT status.\\n•When a campaign in PUBLISHED  status is\\nwithdrawn, the status of the campaign is changed\\nto the DRAFT status.'),\n",
       " Document(metadata={'source': '/home/metapercept/ChatbotTest/data/PDF/Aurigo/Aurigo-Engage.pdf', 'page': 7}, page_content='| Introduction to Aurigo Engage User Interface  | 8\\nStatus Description\\nPUBLISHED After the user creates and publishes the campaign for\\ngeneral public participation, the campaign is changed to\\nPUBLISHED  status.\\nACCEPTING COMMENTS A campaign will start receiving comments from the\\ngeneral public during a specified commenting period.\\nThe published campaigns during this commenting period\\nwill have the ACCEPTING COMMENTS  status. Once\\nthe commenting period ends, the status of the campaign\\nchanges to COMPLETED  status.\\nWITHDRAWN When you withdraw an ongoing campaign that is in\\nACCEPTING COMMENTS  status, then the status of\\nthe campaign is changed to the WITHDRAWN  status.\\nCOMPLETED After the commenting period is complete, the campaign\\nis changed to COMPLETED  status.\\nCLOSED After all the analysis for the completed campaign is\\ndone, the status of the campaign can be changed to\\nCLOSED  status.'),\n",
       " Document(metadata={'source': '/home/metapercept/ChatbotTest/data/PDF/Aurigo/Aurigo-Engage.pdf', 'page': 7}, page_content='done, the status of the campaign can be changed to\\nCLOSED  status.\\nThe Search campaigns  field enables you to search for appropriate campaigns and view the details of projects\\nassociated with them.\\nThe Sort by drop-down list enables you to sort the list of campaigns displayed. The options to sort are as follows:\\n•Recently Added – The campaigns are sorted based on the date of creation.\\n•Rating: High to Low – The campaigns are sorted from high to low based on the rating.\\n•Rating: Low to High – The campaigns are sorted from low to high based on the rating.\\n•Most Comments – The campaigns are sorted based on the number of comments.\\nThe Filter option enables you to filter the campaigns based on the following:\\n•Campaign Status – You can filter based on the current status of the campaign.\\n•Rating – You can filter based on the campaign rating. The ratings are given by the general public as\\nfeedback.\\n•Endorsement % - You can filter based on the endorsement percentage of the campaign.'),\n",
       " Document(metadata={'source': '/home/metapercept/ChatbotTest/data/PDF/Aurigo/Aurigo-Engage.pdf', 'page': 7}, page_content='feedback.\\n•Endorsement % - You can filter based on the endorsement percentage of the campaign.\\n•Comment Period – You can filter based on the commenting period by choosing the start and end date of the\\ncommenting period.\\nIntroduction to Aurigo Engage User Interface\\nEvery time you log in, you begin on the Aurigo Engage Home page. The Aurigo Engage application is configured\\nbased on the roles assigned to you and the campaigns managed by you.\\nThe Aurigo Engage Home page comprises of various menu options as illustrated in the following sample display.\\nFigure 1. Home Page\\nThe user interface of Aurigo Engage contains various elements that are described as follows:'),\n",
       " Document(metadata={'source': '/home/metapercept/ChatbotTest/data/PDF/Aurigo/Aurigo-Engage.pdf', 'page': 8}, page_content='| Introduction to Aurigo Engage User Interface  | 9\\nNumber Item Description\\n1 Profile Menu You can view your profile and log\\nout.\\nClick your initials to view the\\noptions.\\n2 Notifications icon You can view all notifications along\\nwith date and time.\\nClick the Notifications  icon to view\\nall the notifications.\\nClick View all to view all the\\nnotifications in the Notifications\\npage.\\n3 Information Icon You can view a quick walkthrough of\\nthe Aurigo Engage.\\nClick the Information  icon to watch\\na quick walkthrough video of the\\nMenu options.\\n4 Page Name You can view the name of the page\\nyou are currently in.\\n5 Search field You can use this field to search for a\\nparticular campaign.\\n6 Module Menu You can access the various modules\\nby using the module menu options.\\n7 Filter Option You can filter the campaigns by\\nusing this option.\\nClick Filter to view the filter\\noptions.\\n8 Sort by drop-down list You can sort the campaigns by using\\nthis drop-down list.\\nClick and select the appropriate'),\n",
       " Document(metadata={'source': '/home/metapercept/ChatbotTest/data/PDF/Aurigo/Aurigo-Engage.pdf', 'page': 8}, page_content='this drop-down list.\\nClick and select the appropriate\\noption from the drop-down list.\\n9 Information Icon You can view a quick walkthrough of\\nthe Aurigo Engage.\\nClick the Information  Icon to\\nwatch a quick walkthrough video of\\ncreating a new campaign.'),\n",
       " Document(metadata={'source': '/home/metapercept/ChatbotTest/data/PDF/Aurigo/Aurigo-Engage.pdf', 'page': 9}, page_content='| Copying the Public Portal URL  | 10\\nNumber Item Description\\n10 Create New Campaign You can create a new campaign by\\nusing this option. For information\\nabout creating a campaign, refer to\\nCreating a Campaign .\\n11 Campaign Tile You can view the campaign name,\\nstatus of the campaign, number of\\ncomments, commenting period,\\nendorsement percentage, and number\\nof projects.\\nClick View to view the campaign.\\nCopying the Public Portal URL\\nYou can copy the public portal URL in the All Campaigns  page.\\n1.In the Home page, click Home , and then click All Campaigns  . The All Campaigns  page is displayed.\\n2.In the Your campaigns  section, select the appropriate campaign, and click  . Note: The Public Portal URL\\nis not available for the campaigns in DRAFT status.\\n3.From the drop-down list, select Copy Public Portal URL .\\n4.Paste the URL in the web browser to view the public portal.\\nLogging Out of Aurigo Engage\\nYou can log out of Aurigo Engage  by using Sign Out  option.'),\n",
       " Document(metadata={'source': '/home/metapercept/ChatbotTest/data/PDF/Aurigo/Aurigo-Engage.pdf', 'page': 9}, page_content='Logging Out of Aurigo Engage\\nYou can log out of Aurigo Engage  by using Sign Out  option.\\n1.In the Home page, click the initials of the username at the top right corner of the page.\\n2.Click Sign Out  . This ends the user-session and logs the user out from the application.  Figure 1. Sign Out\\nCreating a Campaign\\nThis feature enables you to create a campaign with project related information.Note: Ensure all the project fields are\\ncreated in the Application Settings  .\\n1.In the Home page, click the Create New Campaign  tab. The Create a New Campaign  page is displayed.\\n2.Provide the appropriate information in the fields, as described in the following table.\\nField Description\\nCAMPAIGN TITLE Enter the name of the campaign.\\nSTART DATE Select the start date of the campaign. The campaign\\nstarts on this date and is open to the general public\\nto provide feedback.'),\n",
       " Document(metadata={'source': '/home/metapercept/ChatbotTest/data/PDF/Aurigo/Aurigo-Engage.pdf', 'page': 10}, page_content='| Managing Your Plan  | 11\\nField Description\\nEND DATE Select the end date of the campaign. The campaign\\nends on this date, and general public cannot provide\\nfeedback.Note: Based on the selected START DATE\\nand END DATE  , the CAMPAIGN PERIOD (IN\\nDAYS) field displays the number of days calculated\\nbased on the calendar dates.\\nDESCRIPTION Enter a description of the campaign explaining\\nabout the proposal and purpose of associated\\nprojects along with the supporting documents.\\n3.In the ATTACHMENTS  section, drag and drop files or click  to browse and attach files. Note: To provide\\nadditional details about the campaign, you can attach all supporting documents to be shared on the public\\nplatform.\\n4.To add reference URLs to be displayed in the public portal, in the REFERENCE URLS  section, click  and\\nadd URL.\\n5.To add contact details to be displayed in the public portal, in the CONTACT INFORMATION  section,\\nclick  and provide the information in the fields as described in the following table.'),\n",
       " Document(metadata={'source': '/home/metapercept/ChatbotTest/data/PDF/Aurigo/Aurigo-Engage.pdf', 'page': 10}, page_content='click  and provide the information in the fields as described in the following table.\\nField Description\\nNAME Enter the name of the contact.\\nDESIGNATION Enter the designation of the contact.\\nCONTACT NUMBER Enter the phone number of the contact.\\nEMAIL Enter the email address of the contact.\\n6.Click Next . The Add Projects  tab is displayed. You can now add details of proposed projects to the\\ncampaign. To add projects to the campaign, refer to Managing Projects for a New Campaign  .\\nThe campaign is saved in DRAFT status.\\nManaging Your Plan\\nYou can manage your plan by either upgrading or downgrading your current plan.\\n1.In the Home page, click the initials of your user name at the top right corner of the page.\\n2.From the drop-down list, click Subscription Details  . The Subscription Details  page is displayed.\\n3.Click Manage Plan  . The Choose your plan  window is displayed. There are three types of plans available.\\n•Basic\\n•Professional\\n•Ultimate\\n4.Click Buy Now  to choose your plan.'),\n",
       " Document(metadata={'source': '/home/metapercept/ChatbotTest/data/PDF/Aurigo/Aurigo-Engage.pdf', 'page': 10}, page_content='•Basic\\n•Professional\\n•Ultimate\\n4.Click Buy Now  to choose your plan.\\nDeleting a Campaign\\nThe campaign is in DRAFT status.\\nYou can delete a campaign in the All Campaigns  page.\\n1.In the Home page, click Home , and then click All Campaigns  . The All Campaigns  page is displayed.'),\n",
       " Document(metadata={'source': '/home/metapercept/ChatbotTest/data/PDF/Aurigo/Aurigo-Engage.pdf', 'page': 11}, page_content='| Downloading a QR Code  | 12\\n2.In the Your campaigns  section, select the appropriate campaign in DRAFT status, and click  .\\n3.From the drop-down list, select Delete Campaign  . A confirmation dialog box is displayed.\\n4.Click Yes.\\nDownloading a QR Code\\nYou can see and download the unique QR code of a campaign in the All Campaigns  page.\\n1.In the Home page, click Home , and then click All Campaigns  . The All Campaigns  page is displayed.\\n2.In the Your campaigns  section, select the appropriate campaign, and click  . Note: The Show QR Code\\noption is not available for the campaigns in DRAFT status.\\n3.From the drop-down list, select Show QR Code  . The QR code is displayed.\\n4.To download the QR code as an image, click  . The QR code is downloaded as an image.\\n5.To download the QR code as a PDF, click  . The QR code is downloaded as a PDF.\\nViewing the Subscription Details\\nYou can view the subscription details on this page.'),\n",
       " Document(metadata={'source': '/home/metapercept/ChatbotTest/data/PDF/Aurigo/Aurigo-Engage.pdf', 'page': 11}, page_content='Viewing the Subscription Details\\nYou can view the subscription details on this page.\\n1.In the Home page, click the initials of your user name at the top right corner of the page.\\n2.From the drop-down list, click Subscription Details  . The Subscription Details  page is displayed. On this\\npage, you can view the CURRENT PLAN  , PLAN START DATE  , and PLAN EXPIRY DATE  .  Figure 1.\\nSubscription Details Page\\nIntroduction\\nRead More\\nMasterwork Masterwork Masterwork Masterwork\\nManaging Projects in a Campaign\\n•\\n•Ensure the project details are available in .csv, .xls, .xlsx, or .xlsm formats.Note: The project details file\\ncontains project information such as project name, location, description, and so on.\\nThe campaign is in DRAFT status.\\nCampaign management enables you to organize projects in a seamless and systematic manner under an appropriate\\ncampaign. You can add projects one by one and import projects in bulk.\\nYou can perform the following tasks:\\n•Add projects to a campaign.'),\n",
       " Document(metadata={'source': '/home/metapercept/ChatbotTest/data/PDF/Aurigo/Aurigo-Engage.pdf', 'page': 11}, page_content='You can perform the following tasks:\\n•Add projects to a campaign.\\n•Import projects to a campaign.\\n•Map project fields to be displayed on the public portal based on the requirement.'),\n",
       " Document(metadata={'source': '/home/metapercept/ChatbotTest/data/PDF/Aurigo/Aurigo-Engage.pdf', 'page': 12}, page_content='| Viewing the Transaction History  | 13\\n1.To add projects one by one, perform the following steps:\\na.In the Add Projects  tab, click Add New Project  . The Add New Project  dialog box is displayed.  Figure\\n1. Add New Project Dialog Box\\nb.In the Add New Project  dialog box, enter the required project details. Note: Only the Project Name  field\\nis mandatory.\\nc.Click Save.\\n2.To import projects in bulk, perform the following steps:\\na.In the Add Projects  tab, click Import Projects  . The Upload File  section is displayed.  Figure 2. Upload\\nFile Section\\nb.In the Upload File  section, click  to import the project details.\\nc.Click Save . The File saved successfully  message is displayed.\\nd.In the Map Fields  section, to ensure the correct fields are visible in the public portal with correct\\ninformation, map the Source Field  from the imported project to the Destination Field  . Note:\\nDestination Fields  are the fields that are visible to the general public in the Public Portal.For'),\n",
       " Document(metadata={'source': '/home/metapercept/ChatbotTest/data/PDF/Aurigo/Aurigo-Engage.pdf', 'page': 12}, page_content='Destination Fields  are the fields that are visible to the general public in the Public Portal.For\\ninformation on adding additional form fields, refer to Adding Form Fields  .\\ne.Click Save . The Add Projects  list page is displayed.\\n3.In the Add Projects  list page, perform the following steps as applicable:\\n•To update a project, perform the following steps:\\na.The Edit Project Details  dialog box is displayed.\\nb.Edit the fields as per the requirement.\\nc.Click Save.\\n•To download the projects, perform the following steps:\\na.In the Project List  page, click .\\nThe Project List  is downloaded as Excel file to your local system.\\n•To delete a project, perform the following steps:\\na.In the Project List  page, click .\\nThe confirmation dialog box is displayed.\\nb.Click Yes.\\n4.Click Next . The PREVIEW & PUBLISH  tab is displayed. The campaign is saved in DRAFT status. To\\npreview and publish the campaign, refer to Publishing a New Campaign  .\\nIn the Project List  page, click  .'),\n",
       " Document(metadata={'source': '/home/metapercept/ChatbotTest/data/PDF/Aurigo/Aurigo-Engage.pdf', 'page': 12}, page_content='In the Project List  page, click  .\\nViewing the Transaction History\\nYou can view the transaction history.\\n1.In the Home page, click the initials of your user name at the top right corner of the page.\\n2.From the drop-down list, click Subscription Details  . The Subscription Details  page is displayed.\\n3.In the Transaction History  field, click  . The details of all the transactions are displayed.  Figure 1.\\nTransaction History\\nChanging Password\\nYou can change your password as per your requirement from the User Preferences  page.\\n1.In the Home page, click the initials of your username at the top right corner of the page.'),\n",
       " Document(metadata={'source': '/home/metapercept/ChatbotTest/data/PDF/Aurigo/Aurigo-Engage.pdf', 'page': 13}, page_content='| Posting a Campaign on Social Media  | 14\\n2.From the drop-down list, click User Preferences  . The User Preferences  page is displayed.\\n3.Click Change Password  . The Change Password  dialog box is displayed.\\n4.In the OLD PASSWORD  field, enter the current password.\\n5.In the NEW PASSWORD  field, enter a new password.\\n6.In the CONFIRM PASSWORD  field, enter the same password you entered in the NEW PASSWORD  field.\\n7.Click Save.\\nPosting a Campaign on Social Media\\nPosting campaigns on social media reduces time and effort to coordinate, collect, analyze, and report the information\\nto the management. It also enables the agency users to reach a larger audience efficiently resulting in larger number of\\nfeedback and a detailed idea of general public sentiments.\\n1.In the Home page, click Home , and then click All Campaigns  . The All Campaigns  page is displayed.\\n2.In the All Campaigns  page, select the appropriate campaign in PUBLISHED  status or in ACCEPTING'),\n",
       " Document(metadata={'source': '/home/metapercept/ChatbotTest/data/PDF/Aurigo/Aurigo-Engage.pdf', 'page': 13}, page_content='2.In the All Campaigns  page, select the appropriate campaign in PUBLISHED  status or in ACCEPTING\\nCOMMENTS  status and click  . A drop-down list is displayed.\\n3.From the drop-down list, select Post Campaign on Social Media  . The Promote <campaign name>  page is\\ndisplayed.Note: In the PUBLIC PORTAL URL  field, the URL for the campaign is displayed.  Figure 1.\\nPromote Page\\n4.In the IMAGE section, click the  icon to browse and upload an image for the campaign promotion.\\n5.In the DESCRIPTION  section, modify the pre-populated description as required. Note: The character limit\\nfor social media portals is as follows; Twitter – 280, LinkedIn – 3000, and Facebook – 500.\\n6.To copy the public portal URL, in the PUBLIC PORTAL URL  section, perform the following steps:\\na.Click  . The URl is copied.\\nb.Paste the URL in the web browser to view the public portal.\\n7.To download the QR code, in the PUBLIC PORTAL URL section, perform the following steps:\\na.Click  . The QR code is displayed.'),\n",
       " Document(metadata={'source': '/home/metapercept/ChatbotTest/data/PDF/Aurigo/Aurigo-Engage.pdf', 'page': 13}, page_content='a.Click  . The QR code is displayed.\\nb.To download the QR code as an image, click  . The QR code is downloaded as an image.\\nc.To download the QR code as a PDF, click  . The QR code is downloaded as a PDF.\\n8.In the PROMOTE  section, click Post on <social media icon>  to preview the post. The <social media icon>\\nPost Preview  dialog box is displayed.  Figure 2. LinkedIn Post Preview Dialog Box  Figure 3. Twitter Post\\nPreview Dialog Box  Figure 4. Facebook Post Preview Dialog Box\\n9.Click Post.\\nModifying User Preferences\\nThe User Preferences  page enables you to update personal information of your account.\\n1.In the Home page, click the initials of your username at the top right corner of the page.\\n2.From the drop-down list, click User Preferences  . The User Preferences  page is displayed.\\n3.Update the FIRST NAME, LAST NAME, DEPARTMENT  and DESIGNATION  fields as per your\\nrequirement. Note: You cannot update or change the email address in the EMAIL field.'),\n",
       " Document(metadata={'source': '/home/metapercept/ChatbotTest/data/PDF/Aurigo/Aurigo-Engage.pdf', 'page': 13}, page_content='requirement. Note: You cannot update or change the email address in the EMAIL field.\\n4.Click Modify . The confirmation dialog box is displayed.\\n5.Click OK.'),\n",
       " Document(metadata={'source': '/home/metapercept/ChatbotTest/data/PDF/Aurigo/Aurigo-Engage.pdf', 'page': 14}, page_content='| Publishing a Campaign  | 15\\nPublishing a Campaign\\nThe campaign is in DRAFT status.\\nYou can preview the campaign details in the public portal and publish the campaign. After publishing, the campaign\\nwill be available for the general public to provide their feedback during the commenting period specified for the\\ncampaign.\\n1.To display the fields in the public portal in the Select fields to display on Public Portal  section, select the\\nShow on Public Portal  check box corresponding to the project field.  Figure 1. Preview and Publish Tab\\n2.In the Preview & Publish  tab, click Preview Public Portal  to preview the portal. The Public Portal  page\\nopens in a new tab.  Figure 2. Public Portal Page\\n3.In the Public Portal  page, verify the following points:\\na.Check whether all the campaign details are visible in the public portal as per the public portal template\\nand layout selected in the Public Portal Settings .'),\n",
       " Document(metadata={'source': '/home/metapercept/ChatbotTest/data/PDF/Aurigo/Aurigo-Engage.pdf', 'page': 14}, page_content='and layout selected in the Public Portal Settings .\\nb.Also, check whether you can view the location of the project in the map, and when you select the\\nlocation in the map, the relevant project details are selected in the project list.\\n4.In the Please preview before publishing the campaign:  section, select the check boxes to confirm that all the\\ndetails such as Campaign Details , Project List , Public Portal , and Comment Categories  pertaining to the\\ncampaign are reviewed.\\n5.To review the terms of use set for the general public, click Terms of Use  URL. If it is not defined, then click\\nApplication Settings  in the dialog box to navigate to the Terms of Use  section. Note: The campaign is saved\\nin Draft status when you navigate to update the terms of use.\\n6.Click Publish . A confirmation dialog box is displayed. The campaign is saved in PUBLISHED  status. The\\nstatus of the campaign changes from PUBLISHED  status to ACCEPTING COMMENTS  status during the'),\n",
       " Document(metadata={'source': '/home/metapercept/ChatbotTest/data/PDF/Aurigo/Aurigo-Engage.pdf', 'page': 14}, page_content=\"status of the campaign changes from PUBLISHED  status to ACCEPTING COMMENTS  status during the\\ncommenting period selected for the campaign.Note: You are notified in the Notifications  icon:\\n•From the last two days before a campaign goes live\\n•From the last four days before a campaign's commenting period ends\\nFor more information about promoting a campaign on social media platforms, refer to Posting a Campaign\\non Social Media  .\\nRetrieving Password\\nYou can retrieve your password from the login page.\\n1.In the Aurigo Engage  login page, click Forgot Password?  . The Forgot Password?  page is displayed.\\n2.In the EMAIL field, enter your registered email address.\\n3.Click Send . A reset password link is sent to your registered email address.\\n4.Open the email received from Aurigo Engage  , and then click Reset Password  . The Create New Password\\npage is displayed.\\n5.In the EMAIL field, enter your registered email address.\\n6.In the CREATE PASSWORD  field, enter the new password.\"),\n",
       " Document(metadata={'source': '/home/metapercept/ChatbotTest/data/PDF/Aurigo/Aurigo-Engage.pdf', 'page': 14}, page_content='6.In the CREATE PASSWORD  field, enter the new password.\\n7.In the CONFIRM PASSWORD  field, enter the same password you entered in the CREATE PASSWORD\\nfield.\\n8.Click Save . The Password Updated Successfully  dialog box is displayed.\\n9.Click OK . The Aurigo Engage  login page is displayed.'),\n",
       " Document(metadata={'source': '/home/metapercept/ChatbotTest/data/PDF/Aurigo/Aurigo-Engage.pdf', 'page': 15}, page_content='| Withdrawing a Campaign  | 16\\nWithdrawing a Campaign\\nThe campaign is in PUBLISHED  or ACCEPTING COMMENTS  status.\\nYou can withdraw a published or an ongoing campaign. If a campaign is no longer valid or you wish to update the\\ncampaign, then you can withdraw it. After the campaign is withdrawn, you can update it accordingly.\\nWhen a campaign is withdrawn from PUBLISHED  status, the campaign is moved to DRAFT status.\\nWhen an ongoing campaign is withdrawn from ACCEPTING COMMENTS  status, the campaign is moved to\\nWITHDRAWN  status.\\n1.In the Home page, click Home , and then click All Campaigns.  The All Campaigns  page is displayed.\\n2.In the Your campaigns  section, select the campaign either in PUBLISHED  status or in ACCEPTING\\nCOMMENTS  status and click .\\n3.From the drop-down list, select Withdraw Campaign  . A confirmation dialog box is displayed.\\n4.Click Yes . The campaign is withdrawn successfully.\\n•For information on publishing a campaign, refer to Publishing a Campaign .'),\n",
       " Document(metadata={'source': '/home/metapercept/ChatbotTest/data/PDF/Aurigo/Aurigo-Engage.pdf', 'page': 15}, page_content='•For information on publishing a campaign, refer to Publishing a Campaign .\\n•For information on deleting a campaign, refer to Deleting a Campaign .\\nPublic Portal Users\\nThe general public can view the campaign by visiting the Public Portal. The general public can provide their feedback\\nfor the project campaigns.\\nThe Public Portal provides the following features:\\n•View a project\\n•Search a project\\n•Rate and share comments for a project\\n•View and download reference documents\\nRating and Sharing Comments for a Project\\nYou can rate and share comments for a project in the Public Portal.\\n1.Access the Public Portal. The Home page is displayed.\\n2.In the All Projects  section, select the appropriate project. The details of the appropriate project is\\ndisplayed.\\n3.In the map, zoom in to view the project location and the project details.\\n4.In the RATE THIS PROJECT  section, select the rating based on your sentiment.\\n5.Enter the following information:\\nField Name Description\\nNAME Enter your name.'),\n",
       " Document(metadata={'source': '/home/metapercept/ChatbotTest/data/PDF/Aurigo/Aurigo-Engage.pdf', 'page': 15}, page_content='5.Enter the following information:\\nField Name Description\\nNAME Enter your name.\\nEMAIL Enter your email address.\\nCOMMENT Enter your comments.\\nZIP CODE Enter the zip code of your location.\\n6.Click Terms of Use  . The Terms of Use  dialog box is displayed.'),\n",
       " Document(metadata={'source': '/home/metapercept/ChatbotTest/data/PDF/Aurigo/Aurigo-Engage.pdf', 'page': 16}, page_content='| Campaign Reports  | 17\\n7.Read the terms of use and select the I accept the Terms of Use  check box.\\n8.Click Submit . Note: You cannot submit the feedback without selecting the I accept the Terms of Use  check\\nbox.\\n9.To share the QR code of the campaign using a mobile device, perform the following steps:\\na.Click  . The QR code for the campaign is displayed.\\nb.To download the QR code, click  . The QR code is downloaded and you can share with others.\\nCampaign Reports\\nYou can generate various campaign reports that illustrate various information views. These reports enable you to\\ngenerate and download reports specific to a campaign and projects in a campaign. You can also download a copy of\\nthe report and print a report.\\nFor information on generating, downloading, and printing a report, refer to Generating Reports  .\\nYou can generate the following reports:\\n•Campaign Report\\n•Campaign Overview - This report helps the user to fetch campaign level information such as'),\n",
       " Document(metadata={'source': '/home/metapercept/ChatbotTest/data/PDF/Aurigo/Aurigo-Engage.pdf', 'page': 16}, page_content='•Campaign Overview - This report helps the user to fetch campaign level information such as\\ncommenting period, number of projects, endorsement percentage, and overall sentiment of the\\ncampaign. It lists also all the projects in the campaign, number of received comments, average rating,\\nendorsement percentage, and sentiment of each project.\\n•Projects Report\\n•Positive Sentiment - This report filters out details such as number of comments, average rating, and\\nendorsement percentage of all the projects in the campaign having overall positive sentiments from the\\nusers. The report contains campaign details along with projects list having positive sentiments.\\n•Negative Sentiment - This report filters out details such as number of comments, average rating, and\\nendorsement percentage of all the projects in the campaign having overall negative sentiments from the\\nusers. The report contains campaign details along with projects list having negative sentiments.'),\n",
       " Document(metadata={'source': '/home/metapercept/ChatbotTest/data/PDF/Aurigo/Aurigo-Engage.pdf', 'page': 16}, page_content='users. The report contains campaign details along with projects list having negative sentiments.\\n•Neutral Sentiment - This report filters out details such as number of comments, average rating, and\\nendorsement percentage of all the projects in the campaign having neutral sentiments from the users.\\nThe report contains campaign details along with projects list having neutral sentiments.\\n•High Rated (>3.5) - This report filters out details such as number of comments, average rating, and\\nendorsement percentage of all the projects in the campaign having average rating more than 3.5 from\\nthe users. The report contains campaign details along with the list of filtered projects.\\n•Low Rated (<3.5) - This report filters out details such as number of comments, average rating, and\\nendorsement percentage of all the projects in the campaign having average rating less than 3.5 from the\\nusers. The report contains campaign details along with the list of filtered projects.\\n•Comments Report'),\n",
       " Document(metadata={'source': '/home/metapercept/ChatbotTest/data/PDF/Aurigo/Aurigo-Engage.pdf', 'page': 16}, page_content='•Comments Report\\n•Project Comments - This report lists all the comments received from the general public user for each\\nproject. All the comments are reported under the project along with user information, comments\\nsentiment, and rating.\\n•Category wise comments - This report lists all the comments by category received from the general\\npublic user for each project. All the comments are segregated as per the categories defined along with\\nuser information, comments sentiment, and rating.\\n•Custom Report\\n•Project Comments (You can select a specific project to view the comments.) - This report enables\\nthe user to select a particular project and fetch all user comments received for that project. All the\\ncomments are reported under the project along with user information, comments sentiment, and rating.'),\n",
       " Document(metadata={'source': '/home/metapercept/ChatbotTest/data/PDF/Aurigo/Aurigo-Engage.pdf', 'page': 17}, page_content='| Searching a Project  | 18\\nSearching a Project\\nYou can search for projects in the Public Portal.\\n1.Access the Public Portal. The Home page is displayed.\\n2.In the Search for projects  field, enter the name of the appropriate project.\\n3.Select the project. The details of the appropriate project is displayed.\\nAnalyzing a Campaign\\nCampaign analysis enables the Campaign Manager to analyze ongoing campaigns and withdraw or post an ongoing\\ncampaign.\\nCampaign analysis involves the following:\\n•Viewing Promotion Details\\n•Analyzing a Campaign by Projects\\n•Analyzing a Campaign by Comments\\nPreviewing a Campaign\\nPreviewing a campaign is done using either of the following types:\\n•Based on the data that are entered.\\n•Using the Public Portal.\\nTo preview a campaign based on the data that are entered, refer to Publishing a Campaign .\\nPreviewing a campaign using the Public Portal enables you to see how it appears to the general public.'),\n",
       " Document(metadata={'source': '/home/metapercept/ChatbotTest/data/PDF/Aurigo/Aurigo-Engage.pdf', 'page': 17}, page_content=\"1.In the Home page, click Home , and then click All Campaigns  . The All Campaigns  page is displayed.\\n2.Enter a project name in the search field to look for an appropriate project.\\n3.In the All Projects  section, select an appropriate project to view all the details pertaining to that project.\\n4.Click Reference Documents  to view reference documents such as project design, project execution plan, and\\nso on.\\n5.To verify the project's location in the map, zoom in the map. Select the appropriate project location in the\\nmap to view more details of the project.\\nViewing a Project\\nYou can view the project details in the Public Portal.\\n1.Access the Public Portal. The Home page is displayed.\\n2.In the All Projects  section, select the appropriate project. The project details are displayed.\\nAnalyzing a Campaign by Comments\\nYou can analyze campaigns by comments for the campaigns in the ACCEPTING COMMENTS  status.\"),\n",
       " Document(metadata={'source': '/home/metapercept/ChatbotTest/data/PDF/Aurigo/Aurigo-Engage.pdf', 'page': 18}, page_content='| Responding to Comments  | 19\\n1.In the Home page, click Home , and then click All Campaigns  . The All Campaigns  page is displayed.\\n2.In the Your campaigns  section, select the appropriate campaign in the ACCEPTING COMMENTS  status.\\n3.Click View . The Campaign Details  page is displayed.\\n4.To analyze all the comments for the campaign from the COMMENTS  tab, perform the following steps:\\na.Click the COMMENTS  tab. The Comments  section displays the list of comments given by the general\\npublic for an appropriate project. You can filter the comments based on User , Project , Category  ,\\nSentiment  , Date , and Responses  .Note: You are notified through the Notifications  icon whenever any\\ncomment is received.\\n5.To analyze all the comments for the campaign from the ANALYTICS  tab, perform the following steps:\\na.Click the ANALYTICS  tab. The Campaign Analytics  page is displayed.\\nb.Select CAMPAIGN BREAKDOWN  to view various portlets that provides analysis of the campaign. The'),\n",
       " Document(metadata={'source': '/home/metapercept/ChatbotTest/data/PDF/Aurigo/Aurigo-Engage.pdf', 'page': 18}, page_content='b.Select CAMPAIGN BREAKDOWN  to view various portlets that provides analysis of the campaign. The\\nuser can see portlets such as sentiment breakdown, word clouds, breakdown of public comments over\\ntime, participation trend, top positive and negative comments, breakdown of comments by category,\\nand breakdown of comments by rating.Note: You can select the PROJECT BREAKDOWN  tab to view\\ninsights of comments for a project.\\nc.To view further analysis of the comments in the Comments Overview  portlet, perform the following\\nsteps:\\n1.A detailed insight of all the positive comments is displayed.\\n2.To view another comment type, click the tabs next to Comments Overview .\\n3.To reply, select a comment and click Reply.\\nd.To return to the CAMPAIGN BREAKDOWN  page, click Back.\\nClick the progress bar of Positive .\\nResponding to Comments\\nYou can respond to a general public comment.\\n1.In the Home page, click Home , and then click All Campaigns  . The All Campaigns  page is displayed.'),\n",
       " Document(metadata={'source': '/home/metapercept/ChatbotTest/data/PDF/Aurigo/Aurigo-Engage.pdf', 'page': 18}, page_content='2.In the Your Campaigns  section, select the appropriate campaign in ACCEPTING COMMENTS  status.\\n3.Click View . The Campaign Details  page is displayed.\\n4.Select the COMMENTS  tab. The Comments  section displays the list of all the comments.\\n5.To respond to a single comment, perform the following steps:\\na.Select the appropriate comment and click Actions , and then click Reply . The comment is displayed\\nwith option to respond.\\nb.Click Reply . The box to enter your response is displayed.\\nc.Enter your response in the box and click Send . The response is sent successfully.\\n6.To respond to multiple comments, perform the following steps:\\na.Select all the appropriate comments from the list and click Actions , and then click Reply . The field to\\nenter response is displayed.\\nb.Enter your response in the box and click Send . Note: You are notified through the Notifications  icon\\nwhenever any response is received from the general public.\\nApplication Settings\\nThe\\nApplication Settings'),\n",
       " Document(metadata={'source': '/home/metapercept/ChatbotTest/data/PDF/Aurigo/Aurigo-Engage.pdf', 'page': 19}, page_content='| Viewing and Downloading Reference Documents  | 20\\npage enables the Super User to perform the following tasks:\\n•Configure and update organization settings\\n•Define optional project fields\\n•Define categories to segregate user comments\\n•Define Terms of Use settings\\nViewing and Downloading Reference Documents\\nYou can view and download reference documents in the Public Portal.\\n1.Access the Public Portal. The Home page is displayed.\\n2.Click Reference Documents  . The Reference Documents  dialog box is displayed.\\n3.Select the document that you want to view and download. A copy of the selected document is downloaded to\\nyour local drive.\\n4.Click OK.\\nAnalyzing a Campaign by Projects\\nYou can analyze campaigns by projects for the campaigns in the ACCEPTING COMMENTS  status.\\n1.In the Home page, click Home , and then click All Campaigns  . The All Campaigns  page is displayed.\\n2.In the Your campaigns  section, select the appropriate campaign in ACCEPTING COMMENTS  status.'),\n",
       " Document(metadata={'source': '/home/metapercept/ChatbotTest/data/PDF/Aurigo/Aurigo-Engage.pdf', 'page': 19}, page_content='2.In the Your campaigns  section, select the appropriate campaign in ACCEPTING COMMENTS  status.\\n3.Click View . The Campaign Details  page is displayed.\\n4.Click the PROJECT LIST  tab. The Project List  dashboard displays all the projects available in the\\ncampaign. You can view all the projects and analyze them based on the sentiments from the comments\\nprovided by the general public, endorsement percentage, and the average rating.\\n5.To view analysis of a project under a campaign, in the PROJECT LIST  tab, click any project name. The\\nANALYTICS  tab is displayed. The ANALYTICS  tab represents a comprehensive analysis of the project.\\nYou can view the following information:\\n•Public Sentiment – This is determined by the number of positive comments received from the general\\npublic.\\n•Breakdown of public comments over time – This graph shows the number of positive, neutral, and\\nnegative comments received from the general public.'),\n",
       " Document(metadata={'source': '/home/metapercept/ChatbotTest/data/PDF/Aurigo/Aurigo-Engage.pdf', 'page': 19}, page_content='negative comments received from the general public.\\n•Participation Trend – This graph shows the number of participations on a given date and its trend.\\n•Top Positive Sentiments – This shows the top positive comments received from the general public.\\n•Top Negative Sentiments – This shows the top negative comments received from the general public.\\n.\\nGenerating a Report\\nYou can generate various campaign and project reports that illustrate various information views. These reports enable\\ncampaign managers to stay up-to-date on the status of campaigns.\\n1.In the Home page, click Home , and then click All Campaigns  . The All Campaigns  page is displayed.\\n2.In Your campaigns  section, select a campaign and click View . The Campaign Details  page is displayed.\\n3.Select the Reports tab. The Reports section displays list of all the reports.\\n4.Select the appropriate report to generate and view the report.'),\n",
       " Document(metadata={'source': '/home/metapercept/ChatbotTest/data/PDF/Aurigo/Aurigo-Engage.pdf', 'page': 20}, page_content='| Viewing Analytics for Campaigns and Projects  | 21\\nViewing Analytics for Campaigns and Projects\\nViewing analytics for a campaign is essentially analyzing the entire campaign. A campaign may consist of a single\\nproject or grouped in multiple projects.\\nTo view analytics for a campaign or a project in a campaign, refer to Analyzing a Campaign by Comments  .\\nAdding Form Fields\\nYou can add additional form fields in the Define Public Portal Form Fields  section in addition to the default system\\nfields. The default system fields are as follows:\\n•Rate This Project\\n•Name\\n•Email\\n•Comment\\n•Zip Code\\n1.In the Home page, click Settings , and then select Public Portal Template  . The Public Portal Settings  page\\nis displayed.\\n2.In the DEFINE PUBLIC PORTAL FORM FIELDS  section, click Add Field  . The Add Custom Field  dialog\\nbox is displayed.\\n3.In the FORM FIELD NAME  field, enter the name of the field.'),\n",
       " Document(metadata={'source': '/home/metapercept/ChatbotTest/data/PDF/Aurigo/Aurigo-Engage.pdf', 'page': 20}, page_content='box is displayed.\\n3.In the FORM FIELD NAME  field, enter the name of the field.\\n4.In the INPUT CONTROL TYPE  drop-down field, select the appropriate input type from the drop-down\\nlist.\\n5.Click Add . The field is added to the form fields list.\\n6.To update or delete a custom field, perform the following:\\n•Click  to edit or update information of a custom field.\\n•Click  to delete a custom field.\\n7.To display the custom field in the public portal, in the Show on Public Portal  column, select Yes against the\\nappropriate field.\\n8.To make the custom field as mandatory field in the public portal, in the Is a Required Field  column, select\\nYes against the appropriate field.\\nCategories\\nThe\\nCategories\\nsection enables you to define the categories to segregate the user comments. There are 10 categories defined in the\\nsystem by default. You can add and remove categories if needed. You can define a total of 15 categories. The changes'),\n",
       " Document(metadata={'source': '/home/metapercept/ChatbotTest/data/PDF/Aurigo/Aurigo-Engage.pdf', 'page': 20}, page_content='you make to the categories are applicable to the campaigns that are published after making the changes and has no\\nimpact on the previously published campaigns.\\nIf no categories are defined, then the Category  column is blank in the Comments  page, category widgets are not\\ndisplayed in the Analytics  page, and the comments are displayed without segregation by category in the Category\\nwise comments  report.\\n1.In the Home page, click Settings and then select Application Settings  . The Application Settings  page is\\ndisplayed.'),\n",
       " Document(metadata={'source': '/home/metapercept/ChatbotTest/data/PDF/Aurigo/Aurigo-Engage.pdf', 'page': 21}, page_content='| Viewing Promotional Details  | 22\\n2.To add categories to segregate the user comments, in the Categories  section, perform the following steps:\\na.Click  . The field to enter category is displayed.\\nb.In the field, enter the category and click outside the field to save the category automatically. You can\\nadd up to 15 categories to segregate the user comments.\\n3.To delete a category, in the Categories  section, perform the following steps:\\na.Click  . A confirmation message is displayed.\\nb.In the confirmation dialog box, click OK . The category is successfully deleted.\\nViewing Promotional Details\\nPromotional details comprises details such as when and in which social platforms the campaign was promoted on\\nsocial media.Promotional details are applicable for:\\n•Campaigns that are in the PUBLISHED  status and in the ACCEPTING COMMENTS  status.\\n•Campaigns that are withdrawn after being published and are in the DRAFT status.\\n•'),\n",
       " Document(metadata={'source': '/home/metapercept/ChatbotTest/data/PDF/Aurigo/Aurigo-Engage.pdf', 'page': 21}, page_content='•Campaigns that are withdrawn after being published and are in the DRAFT status.\\n•\\nOngoing campaigns that are withdrawn and are in the WITHDRAWN  status.\\n1.In the Home page, click Home , and then click All Campaigns  . The All Campaigns  page is displayed.\\n2.In the Your campaigns  section, select the appropriate campaign in PUBLISHED  or ACCEPTING\\nCOMMENTS  status.\\n3.Click View . The SHARED ON  section displays on which social platforms the campaign promotion is\\nshared along with the last promotion date.\\nGenerating Reports\\nYou can generate reports for different information views for all the campaigns in the application. Aurigo Engage\\nprovides report filters to generate reports with specific information.\\nThe standard report functions include the following:\\n•Generate a Report\\n•Print a Report\\n•Save a report in various formats\\nViewing Campaigns\\nCampaigns can be viewed irrespective of their status. However, based on the status of the campaign, the information'),\n",
       " Document(metadata={'source': '/home/metapercept/ChatbotTest/data/PDF/Aurigo/Aurigo-Engage.pdf', 'page': 21}, page_content='you view and the editing criteria differ.\\nAdding Users\\nYou can create an account for a user to log into and use the Aurigo Engage application.\\n1.In the Home page, click Settings , and then select Users . The Users page is displayed.\\n2.Click Add New User  . The Add New User  page is displayed.'),\n",
       " Document(metadata={'source': '/home/metapercept/ChatbotTest/data/PDF/Aurigo/Aurigo-Engage.pdf', 'page': 22}, page_content='| Adding Layouts and Fonts  | 23\\n3.Provide the appropriate information in the fields, as described in the following table.\\nField Name Description\\nFIRST NAME Enter the first name of the user.\\nLAST NAME Enter the last name of the user.\\nEMAIL Enter the email address of the user.\\nPRIVILEGE Enter the security permission role of the user.\\nDEPARTMENT Enter the department of the user.\\nDESIGNATION Enter the designation of the user in the\\norganization.\\n4.Click Create . A new user is created. An email is sent inviting the new user to Aurigo Engage  .\\nAdding Layouts and Fonts\\nYou can add or change the color of the public portal layout and font.\\n1.In the Home page, click Settings , and then select Public Portal Template  . The Public Portal Settings  page\\nis displayed.\\n2.In the CHOOSE A LAYOUT COLOR:  section, select the theme color for the portal.\\n3.In the CHOOSE A FONT COLOR:  section, select the font color for the portal.\\n4.Click Preview Portal  to preview the portal.\\n5.Click Save Template .'),\n",
       " Document(metadata={'source': '/home/metapercept/ChatbotTest/data/PDF/Aurigo/Aurigo-Engage.pdf', 'page': 22}, page_content='4.Click Preview Portal  to preview the portal.\\n5.Click Save Template .\\nGeneral Settings\\nThe General Settings  section enables you to update the agency name and add a logo to the campaign.\\n1.In the Home page, click Settings and then select Application Settings  . The Application Settings  page is\\ndisplayed.\\n2.In the General Settings  section, perform the following steps:\\na.In the AGENCY NAME  field, enter the name of the agency.\\nb.In the EMAIL field, enter the name of the email address.\\nc.In the LOGO field, click Add Logo  to browse and select the logo.\\n3.Click Save.\\nPrinting a Report\\nYou can print a copy of the generated campaign and project reports.\\n1.Generate the appropriate report.\\n2.In the report toolbar, click Print Report  .'),\n",
       " Document(metadata={'source': '/home/metapercept/ChatbotTest/data/PDF/Aurigo/Aurigo-Engage.pdf', 'page': 23}, page_content='| Viewing Campaigns in Accepting Comments Status  | 24\\nViewing Campaigns in Accepting Comments Status\\nViewing Campaigns in the ACCEPTING COMMENTS  status enables you to view the comments and ratings\\nprovided by general public for a project in the campaign.\\n1.In the Home page, click Home , and then click All Campaigns  . The All Campaigns  page is displayed.\\n2.In the Your campaigns  section, select the appropriate campaign in ACCEPTING COMMENTS  status, and\\nclick View . The Campaign Details  page is displayed. The following information is available:\\nTabs Description\\nCAMPAIGN DETAILS Displays the campaign details.\\nPROJECT LIST Displays the list of available projects.\\nCOMMENTS Displays the list of comments for the campaign.\\nANALYTICS Displays analytical information based on the\\nsentiments from the comments.\\nREPORTS Displays reports for the campaign.\\nDeleting a User\\nYou can delete a user account to prevent a user from accessing the application. On deleting an account, the user'),\n",
       " Document(metadata={'source': '/home/metapercept/ChatbotTest/data/PDF/Aurigo/Aurigo-Engage.pdf', 'page': 23}, page_content='cannot log into the application.\\n1.In the Home page, click Settings , and then select Users . The Users page is displayed.\\n2.In the Users page, select the appropriate user, and click  . A confirmation message is displayed.\\n3.Click Yes . The user is successfully deleted from the system.\\nManaging a Template\\nYou can manage the public portal template by changing the layout, logo, and header.\\n1.In the Home page, click Settings , and then select Public Portal Template  . The Public Portal Settings  page\\nis displayed.\\n2.In the CHOOSE LAYOUT section, select a layout or theme for the portal.\\n3.To add a logo, in the LOGO section, click Add Logo  to browse and select the appropriate logo.\\n4.In the ADD HEADER TITLE  section, enter the title for the public portal.\\nUser Roles\\nThe application supports the following roles for a user:\\n•Super User\\n•Campaign Manager\\n•Reviewer\\nSuper User'),\n",
       " Document(metadata={'source': '/home/metapercept/ChatbotTest/data/PDF/Aurigo/Aurigo-Engage.pdf', 'page': 24}, page_content='| Project Fields  | 25\\nThe Super User is authorized to access the user administration module in the application. The Super User is\\nresponsible for all the user management activities such as user creation, modification, and deletion. A Super User can\\ncreate another super user in the system by assigning Administrator role to a user.\\nCampaign Manager\\nThe Campaign Manager is responsible for managing and supervising tasks, features, and other related elements\\nappropriate to a specific campaign. The Campaign Manager is restricted to use Application Settings .\\nReviewer\\nThe Reviewer can review a campaign, review a project in a campaign, generate reports, and see insights. The\\nReviewer is restricted to use Application Settings .\\nProject Fields\\nThe Project Fields  section is optional. This section enables you to add fields to display additional project details in\\nthe public portal.\\n1.In the Home page, click Settings , and then select Application Settings  . The Application Settings  page is'),\n",
       " Document(metadata={'source': '/home/metapercept/ChatbotTest/data/PDF/Aurigo/Aurigo-Engage.pdf', 'page': 24}, page_content='displayed.\\n2.In the Project Fields  section, click Add Field  . The Add Project Field  dialog box is displayed.\\n3.In the FORM FIELD NAME  field, enter the field name.\\n4.Click Add . Note: The new form field is added to the Project Fields  section.\\nSaving a Report\\nYou can save a copy of the generated campaign and project reports.\\n1.Generate the appropriate report.\\n2.Click Download   . Note: You can download only in .PDF or .xls formats.\\nViewing Campaigns in Completed Status\\nViewing campaigns in the COMPLETED  status enables you to view the campaign with the same information as the\\ncampaigns in the ACCEPTING COMMENTS  status. However, the comments from the general public are restricted.\\nFor more information, refer to Viewing Campaigns in Accepting Comments Status .\\nUpdating User Details\\nYou can modify user account details such as first name, last name, privilege, department, or designation of a user\\naccount.'),\n",
       " Document(metadata={'source': '/home/metapercept/ChatbotTest/data/PDF/Aurigo/Aurigo-Engage.pdf', 'page': 24}, page_content='account.\\n1.In the Home page, click Settings , and then select Users . The Users page is displayed.\\n2.In the Users page, select the appropriate user, and click  . The Edit User Details  page is displayed.\\n3.Select the appropriate fields to edit. Note: The EMAIL address of the user cannot be updated once the user\\naccount is created.\\n4.Click Save . Note: By default, the user is disabled in the system.\\n5.Click the confirmation link sent to the registered email to confirm the details. Note: After successful\\nconfirmation, the user account is enabled in the application.'),\n",
       " Document(metadata={'source': '/home/metapercept/ChatbotTest/data/PDF/Aurigo/Aurigo-Engage.pdf', 'page': 25}, page_content=\"| Public Portal Settings  | 26\\nPublic Portal Settings\\nThe Public Portal Settings  page enables you to configure the display settings for the public portal. It enables you to\\ncreate or update a public portal template by selecting the appropriate layout, logo, header, font and layout color, and\\ndefine public portal form fields.\\nTerms of Use Settings\\nThe Terms of Use Settings  section enables you to set the terms of use for the general public while using the Public\\nPortal. This Terms of Use is displayed in the Public Portal for the general public's awareness.\\n1.In the Home page, click Settings , and then select Application Settings  . The Application Settings  page is\\ndisplayed.\\n2.In the Terms of Use Settings  section, enter the terms of use that you want to define for the general public\\nwhile using public portal. Note: The Terms of Use  defined here is displayed in the public portal. It is\\nmandatory for the general public to read the terms of use before submitting their feedback.\"),\n",
       " Document(metadata={'source': '/home/metapercept/ChatbotTest/data/PDF/Aurigo/Aurigo-Engage.pdf', 'page': 25}, page_content='mandatory for the general public to read the terms of use before submitting their feedback.\\n3.Click Save.\\nViewing Campaigns in Draft Status\\nViewing campaigns in the DRAFT status enables you to edit campaign details based on the requirement or delete it\\nand create a new campaign.\\n1.In the Home page, click Home , and then click All Campaigns  . The All Campaigns  page is displayed.\\n2.In the Your campaigns  section, select the appropriate campaign in DRAFT status, and click View . The\\nCreate a New Campaign  page is displayed.\\n3.Update the information as per your requirement. For more information, refer to Creating a Campaign  .\\nUser Management\\nThe\\nUsers\\npage enables you to perform the following tasks:\\n•Add Users\\n•Edit Users\\n•Delete Users')]"
      ]
     },
     "execution_count": 29,
     "metadata": {},
     "output_type": "execute_result"
    }
   ],
   "source": [
    "loader = DirectoryLoader(DATA_PATH, glob='*.pdf', loader_cls=PyPDFLoader)\n",
    "documents = loader.load()\n",
    "text_splitter = RecursiveCharacterTextSplitter(chunk_size=1000, chunk_overlap=100)\n",
    "texts = text_splitter.split_documents(documents)\n",
    "texts"
   ]
  },
  {
   "cell_type": "code",
   "execution_count": 30,
   "metadata": {},
   "outputs": [
    {
     "name": "stdout",
     "output_type": "stream",
     "text": [
      "2024-08-05 13:05:06 - Loading faiss with AVX512 support.\n",
      "2024-08-05 13:05:06 - Successfully loaded faiss with AVX512 support.\n"
     ]
    }
   ],
   "source": [
    "db = FAISS.from_documents(texts, embeddings)\n",
    "db.save_local(DB_FAISS_PATH)"
   ]
  },
  {
   "cell_type": "code",
   "execution_count": 31,
   "metadata": {},
   "outputs": [
    {
     "data": {
      "text/plain": [
       "<langchain_community.vectorstores.faiss.FAISS at 0x7b5e5480cdf0>"
      ]
     },
     "execution_count": 31,
     "metadata": {},
     "output_type": "execute_result"
    }
   ],
   "source": [
    "db = FAISS.load_local(DB_FAISS_PATH, embeddings, allow_dangerous_deserialization=True)\n",
    "db"
   ]
  },
  {
   "cell_type": "code",
   "execution_count": 32,
   "metadata": {},
   "outputs": [
    {
     "data": {
      "text/plain": [
       "RetrievalQA(combine_documents_chain=StuffDocumentsChain(llm_chain=LLMChain(prompt=PromptTemplate(input_variables=['context', 'question'], template=\"Use the following pieces of context to answer the question at the end. If you don't know the answer, just say that you don't know, don't try to make up an answer.\\n\\n        Contexts: {context}\\n\\n        Question: {question}\\n        Helpful Answer:\"), llm=CTransformers(client=<ctransformers.llm.LLM object at 0x7b5e4d0e8a30>, model='TheBloke/Llama-2-7B-Chat-GGML', model_type='llama', config={'temperature': 0.01, 'max_new_tokens': 600, 'context_length': 1200})), document_variable_name='context'), return_source_documents=True, retriever=VectorStoreRetriever(tags=['FAISS', 'HuggingFaceEmbeddings'], vectorstore=<langchain_community.vectorstores.faiss.FAISS object at 0x7b5e5480cdf0>, search_kwargs={'k': 4}))"
      ]
     },
     "execution_count": 32,
     "metadata": {},
     "output_type": "execute_result"
    }
   ],
   "source": [
    "qa_chain = RetrievalQA.from_chain_type(llm=llm,\n",
    "                                    chain_type='stuff',\n",
    "                                    retriever=db.as_retriever(search_kwargs={'k':4 }),\n",
    "                                    return_source_documents=True,\n",
    "                                    chain_type_kwargs={'prompt': prompt},\n",
    "                                    )\n",
    "qa_chain"
   ]
  },
  {
   "cell_type": "code",
   "execution_count": 34,
   "metadata": {},
   "outputs": [
    {
     "data": {
      "text/plain": [
       "' Aurigo is a software as a service (SaaS) based product that enables infrastructure and construction agencies to efficiently collaborate with the general public potentially using a proposed infrastructure.'"
      ]
     },
     "execution_count": 34,
     "metadata": {},
     "output_type": "execute_result"
    }
   ],
   "source": [
    "res = qa_chain.invoke(\"What is Aurigo?\")\n",
    "res['result']"
   ]
  }
 ],
 "metadata": {
  "kernelspec": {
   "display_name": "chatbot-env",
   "language": "python",
   "name": "python3"
  },
  "language_info": {
   "codemirror_mode": {
    "name": "ipython",
    "version": 3
   },
   "file_extension": ".py",
   "mimetype": "text/x-python",
   "name": "python",
   "nbconvert_exporter": "python",
   "pygments_lexer": "ipython3",
   "version": "3.10.12"
  }
 },
 "nbformat": 4,
 "nbformat_minor": 2
}
