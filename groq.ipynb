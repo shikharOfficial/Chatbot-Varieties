{
 "cells": [
  {
   "cell_type": "code",
   "execution_count": 5,
   "metadata": {},
   "outputs": [
    {
     "data": {
      "text/plain": [
       "<groq.Groq at 0x7cac95363370>"
      ]
     },
     "execution_count": 5,
     "metadata": {},
     "output_type": "execute_result"
    }
   ],
   "source": [
    "from groq import Groq\n",
    "\n",
    "client = Groq(\n",
    "    api_key='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',\n",
    ")\n",
    "client"
   ]
  },
  {
   "cell_type": "code",
   "execution_count": 15,
   "metadata": {},
   "outputs": [
    {
     "data": {
      "text/plain": [
       "\"\\nInstructions:\\n- Be helpful and answer questions concisely. If you don't know the answer, say 'I don't know'\\n- Utilize the context provided for accurate and specific information. If you can't find any information from the context, just respond you don't know as not provided in the context.\\n- Just respond with the answers available in the context.\\n- Cite your sources\\nContext: Apples are rich in Vitamin C\\n\""
      ]
     },
     "execution_count": 15,
     "metadata": {},
     "output_type": "execute_result"
    }
   ],
   "source": [
    "context = f\"Apples are rich in Vitamin C\"\n",
    "\n",
    "sys_prompt = f\"\"\"\n",
    "Instructions:\n",
    "- Be helpful and answer questions concisely. If you don't know the answer, say 'I don't know'\n",
    "- Utilize the context provided for accurate and specific information. If you can't find any information from the context, just respond you don't know as not provided in the context.\n",
    "- Just respond with the answers available in the context.\n",
    "- Cite your sources\n",
    "Context: {context}\n",
    "\"\"\"\n",
    "sys_prompt"
   ]
  },
  {
   "cell_type": "code",
   "execution_count": 21,
   "metadata": {},
   "outputs": [
    {
     "data": {
      "text/plain": [
       "'The provided text mentions that **apples are rich in Vitamin C**.\\n\\n**Source:** Context'"
      ]
     },
     "execution_count": 21,
     "metadata": {},
     "output_type": "execute_result"
    }
   ],
   "source": [
    "stream = client.chat.completions.create(\n",
    "        messages=[\n",
    "                { \n",
    "                 'role': 'system',\n",
    "                  'content': sys_prompt\n",
    "                 },\n",
    "                {\n",
    "                   'role': 'user',\n",
    "                   'content': 'What nutrients are present in apples?'\n",
    "                }\n",
    "        ],\n",
    "        model=\"gemma-7b-it\",\n",
    ")\n",
    "    \n",
    "stream.choices[0].message.content"
   ]
  }
 ],
 "metadata": {
  "kernelspec": {
   "display_name": "chatbot-env",
   "language": "python",
   "name": "python3"
  },
  "language_info": {
   "codemirror_mode": {
    "name": "ipython",
    "version": 3
   },
   "file_extension": ".py",
   "mimetype": "text/x-python",
   "name": "python",
   "nbconvert_exporter": "python",
   "pygments_lexer": "ipython3",
   "version": "3.10.12"
  }
 },
 "nbformat": 4,
 "nbformat_minor": 2
}
